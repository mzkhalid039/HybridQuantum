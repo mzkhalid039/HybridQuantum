{
 "cells": [
  {
   "cell_type": "code",
   "execution_count": 1,
   "id": "46e8fc26-2580-4967-a1c8-6067fe63ffbb",
   "metadata": {},
   "outputs": [
    {
     "data": {
      "text/markdown": [
       "### Step 1: Define the H₂ molecule geometry and basis set"
      ],
      "text/plain": [
       "<IPython.core.display.Markdown object>"
      ]
     },
     "metadata": {},
     "output_type": "display_data"
    },
    {
     "data": {
      "text/markdown": [
       "### Defined geometry: [('H', (0, 0, 0)), ('H', (0, 0, 0.74))]\n",
       "Using basis: sto-3g"
      ],
      "text/plain": [
       "<IPython.core.display.Markdown object>"
      ]
     },
     "metadata": {},
     "output_type": "display_data"
    },
    {
     "data": {
      "text/markdown": [
       "### Step 2: Visualize the H₂ molecule geometry"
      ],
      "text/plain": [
       "<IPython.core.display.Markdown object>"
      ]
     },
     "metadata": {},
     "output_type": "display_data"
    },
    {
     "data": {
      "application/3dmoljs_load.v0": "<div id=\"3dmolviewer_17365040273536017\"  style=\"position: relative; width: 400px; height: 400px;\">\n        <p id=\"3dmolwarning_17365040273536017\" style=\"background-color:#ffcccc;color:black\">3Dmol.js failed to load for some reason.  Please check your browser console for error messages.<br></p>\n        </div>\n<script>\n\nvar loadScriptAsync = function(uri){\n  return new Promise((resolve, reject) => {\n    //this is to ignore the existence of requirejs amd\n    var savedexports, savedmodule;\n    if (typeof exports !== 'undefined') savedexports = exports;\n    else exports = {}\n    if (typeof module !== 'undefined') savedmodule = module;\n    else module = {}\n\n    var tag = document.createElement('script');\n    tag.src = uri;\n    tag.async = true;\n    tag.onload = () => {\n        exports = savedexports;\n        module = savedmodule;\n        resolve();\n    };\n  var firstScriptTag = document.getElementsByTagName('script')[0];\n  firstScriptTag.parentNode.insertBefore(tag, firstScriptTag);\n});\n};\n\nif(typeof $3Dmolpromise === 'undefined') {\n$3Dmolpromise = null;\n  $3Dmolpromise = loadScriptAsync('https://cdnjs.cloudflare.com/ajax/libs/3Dmol/2.4.0/3Dmol-min.js');\n}\n\nvar viewer_17365040273536017 = null;\nvar warn = document.getElementById(\"3dmolwarning_17365040273536017\");\nif(warn) {\n    warn.parentNode.removeChild(warn);\n}\n$3Dmolpromise.then(function() {\nviewer_17365040273536017 = $3Dmol.createViewer(document.getElementById(\"3dmolviewer_17365040273536017\"),{backgroundColor:\"white\"});\nviewer_17365040273536017.zoomTo();\n\tviewer_17365040273536017.addModel(\"\\n    H 0.0 0.0 0.0\\n    H 0.0 0.0 0.74\\n    \",\"xyz\");\n\tviewer_17365040273536017.setStyle({\"stick\": {}});\n\tviewer_17365040273536017.zoomTo();\nviewer_17365040273536017.render();\n});\n</script>",
      "text/html": [
       "<div id=\"3dmolviewer_17365040273536017\"  style=\"position: relative; width: 400px; height: 400px;\">\n",
       "        <p id=\"3dmolwarning_17365040273536017\" style=\"background-color:#ffcccc;color:black\">3Dmol.js failed to load for some reason.  Please check your browser console for error messages.<br></p>\n",
       "        </div>\n",
       "<script>\n",
       "\n",
       "var loadScriptAsync = function(uri){\n",
       "  return new Promise((resolve, reject) => {\n",
       "    //this is to ignore the existence of requirejs amd\n",
       "    var savedexports, savedmodule;\n",
       "    if (typeof exports !== 'undefined') savedexports = exports;\n",
       "    else exports = {}\n",
       "    if (typeof module !== 'undefined') savedmodule = module;\n",
       "    else module = {}\n",
       "\n",
       "    var tag = document.createElement('script');\n",
       "    tag.src = uri;\n",
       "    tag.async = true;\n",
       "    tag.onload = () => {\n",
       "        exports = savedexports;\n",
       "        module = savedmodule;\n",
       "        resolve();\n",
       "    };\n",
       "  var firstScriptTag = document.getElementsByTagName('script')[0];\n",
       "  firstScriptTag.parentNode.insertBefore(tag, firstScriptTag);\n",
       "});\n",
       "};\n",
       "\n",
       "if(typeof $3Dmolpromise === 'undefined') {\n",
       "$3Dmolpromise = null;\n",
       "  $3Dmolpromise = loadScriptAsync('https://cdnjs.cloudflare.com/ajax/libs/3Dmol/2.4.0/3Dmol-min.js');\n",
       "}\n",
       "\n",
       "var viewer_17365040273536017 = null;\n",
       "var warn = document.getElementById(\"3dmolwarning_17365040273536017\");\n",
       "if(warn) {\n",
       "    warn.parentNode.removeChild(warn);\n",
       "}\n",
       "$3Dmolpromise.then(function() {\n",
       "viewer_17365040273536017 = $3Dmol.createViewer(document.getElementById(\"3dmolviewer_17365040273536017\"),{backgroundColor:\"white\"});\n",
       "viewer_17365040273536017.zoomTo();\n",
       "\tviewer_17365040273536017.addModel(\"\\n    H 0.0 0.0 0.0\\n    H 0.0 0.0 0.74\\n    \",\"xyz\");\n",
       "\tviewer_17365040273536017.setStyle({\"stick\": {}});\n",
       "\tviewer_17365040273536017.zoomTo();\n",
       "viewer_17365040273536017.render();\n",
       "});\n",
       "</script>"
      ]
     },
     "metadata": {},
     "output_type": "display_data"
    },
    {
     "data": {
      "text/markdown": [
       "### Step 3: Generate the molecular Hamiltonian using OpenFermion"
      ],
      "text/plain": [
       "<IPython.core.display.Markdown object>"
      ]
     },
     "metadata": {},
     "output_type": "display_data"
    },
    {
     "data": {
      "text/markdown": [
       "### Generated Fermionic Hamiltonian:"
      ],
      "text/plain": [
       "<IPython.core.display.Markdown object>"
      ]
     },
     "metadata": {},
     "output_type": "display_data"
    },
    {
     "name": "stdout",
     "output_type": "stream",
     "text": [
      "() 0.7151043390810812\n",
      "((0, 1), (0, 0)) -1.2533097866459773\n",
      "((1, 1), (1, 0)) -1.2533097866459773\n",
      "((2, 1), (2, 0)) -0.47506884877217775\n",
      "((3, 1), (3, 0)) -0.47506884877217775\n",
      "((0, 1), (0, 1), (0, 0), (0, 0)) 0.3373779634072241\n",
      "((0, 1), (0, 1), (2, 0), (2, 0)) 0.09060523100759851\n",
      "((0, 1), (1, 1), (1, 0), (0, 0)) 0.3373779634072241\n",
      "((0, 1), (1, 1), (3, 0), (2, 0)) 0.09060523100759851\n",
      "((0, 1), (2, 1), (0, 0), (2, 0)) 0.09060523100759851\n",
      "((0, 1), (2, 1), (2, 0), (0, 0)) 0.33185570067540676\n",
      "((0, 1), (3, 1), (1, 0), (2, 0)) 0.09060523100759851\n",
      "((0, 1), (3, 1), (3, 0), (0, 0)) 0.33185570067540676\n",
      "((1, 1), (0, 1), (0, 0), (1, 0)) 0.3373779634072241\n",
      "((1, 1), (0, 1), (2, 0), (3, 0)) 0.09060523100759851\n",
      "((1, 1), (1, 1), (1, 0), (1, 0)) 0.3373779634072241\n",
      "((1, 1), (1, 1), (3, 0), (3, 0)) 0.09060523100759851\n",
      "((1, 1), (2, 1), (0, 0), (3, 0)) 0.09060523100759851\n",
      "((1, 1), (2, 1), (2, 0), (1, 0)) 0.33185570067540676\n",
      "((1, 1), (3, 1), (1, 0), (3, 0)) 0.09060523100759851\n",
      "((1, 1), (3, 1), (3, 0), (1, 0)) 0.33185570067540676\n",
      "((2, 1), (0, 1), (0, 0), (2, 0)) 0.33185570067540676\n",
      "((2, 1), (0, 1), (2, 0), (0, 0)) 0.09060523100759851\n",
      "((2, 1), (1, 1), (1, 0), (2, 0)) 0.33185570067540676\n",
      "((2, 1), (1, 1), (3, 0), (0, 0)) 0.09060523100759851\n",
      "((2, 1), (2, 1), (0, 0), (0, 0)) 0.09060523100759851\n",
      "((2, 1), (2, 1), (2, 0), (2, 0)) 0.3488257522452315\n",
      "((2, 1), (3, 1), (1, 0), (0, 0)) 0.09060523100759851\n",
      "((2, 1), (3, 1), (3, 0), (2, 0)) 0.3488257522452315\n",
      "((3, 1), (0, 1), (0, 0), (3, 0)) 0.33185570067540676\n",
      "((3, 1), (0, 1), (2, 0), (1, 0)) 0.09060523100759851\n",
      "((3, 1), (1, 1), (1, 0), (3, 0)) 0.33185570067540676\n",
      "((3, 1), (1, 1), (3, 0), (1, 0)) 0.09060523100759851\n",
      "((3, 1), (2, 1), (0, 0), (1, 0)) 0.09060523100759851\n",
      "((3, 1), (2, 1), (2, 0), (3, 0)) 0.3488257522452315\n",
      "((3, 1), (3, 1), (1, 0), (1, 0)) 0.09060523100759851\n",
      "((3, 1), (3, 1), (3, 0), (3, 0)) 0.3488257522452315\n",
      "\n"
     ]
    },
    {
     "data": {
      "text/markdown": [
       "### Step 4: Apply the Jordan-Wigner transformation"
      ],
      "text/plain": [
       "<IPython.core.display.Markdown object>"
      ]
     },
     "metadata": {},
     "output_type": "display_data"
    },
    {
     "data": {
      "text/markdown": [
       "### Jordan-Wigner Transformed Hamiltonian (Pauli Operators):"
      ],
      "text/plain": [
       "<IPython.core.display.Markdown object>"
      ]
     },
     "metadata": {},
     "output_type": "display_data"
    },
    {
     "name": "stdout",
     "output_type": "stream",
     "text": [
      "-0.09706626816763103 [] +\n",
      "-0.04530261550379926 [X0 X1 Y2 Y3] +\n",
      "0.04530261550379926 [X0 Y1 Y2 X3] +\n",
      "0.04530261550379926 [Y0 X1 X2 Y3] +\n",
      "-0.04530261550379926 [Y0 Y1 X2 X3] +\n",
      "0.17141282644776915 [Z0] +\n",
      "0.16868898170361205 [Z0 Z1] +\n",
      "0.12062523483390411 [Z0 Z2] +\n",
      "0.16592785033770338 [Z0 Z3] +\n",
      "0.1714128264477691 [Z1] +\n",
      "0.16592785033770338 [Z1 Z2] +\n",
      "0.12062523483390411 [Z1 Z3] +\n",
      "-0.22343153690813436 [Z2] +\n",
      "0.17441287612261575 [Z2 Z3] +\n",
      "-0.22343153690813436 [Z3]\n"
     ]
    },
    {
     "data": {
      "text/markdown": [
       "### Step 5: Convert the Hamiltonian to a sparse matrix form for further simulation"
      ],
      "text/plain": [
       "<IPython.core.display.Markdown object>"
      ]
     },
     "metadata": {},
     "output_type": "display_data"
    },
    {
     "name": "stdout",
     "output_type": "stream",
     "text": [
      "<Compressed Sparse Column sparse matrix of dtype 'complex128'\n",
      "\twith 20 stored elements and shape (16, 16)>\n",
      "  Coords\tValues\n",
      "  (0, 0)\t(0.7151043390810812+0j)\n",
      "  (1, 1)\t(0.24003549030890353+0j)\n",
      "  (2, 2)\t(0.24003549030890353+0j)\n",
      "  (3, 3)\t(0.4626181460271887+0j)\n",
      "  (12, 3)\t(0.18121046201519703+0j)\n",
      "  (4, 4)\t(-0.5382054475648959+0j)\n",
      "  (5, 5)\t(-0.5307733570014572+0j)\n",
      "  (6, 6)\t(-0.34956289498626014+0j)\n",
      "  (9, 6)\t(-0.18121046201519703+0j)\n",
      "  (7, 7)\t(0.35552070006764147+0j)\n",
      "  (8, 8)\t(-0.5382054475648961+0j)\n",
      "  (6, 9)\t(-0.18121046201519703+0j)\n",
      "  (9, 9)\t(-0.34956289498626036+0j)\n",
      "  (10, 10)\t(-0.5307733570014574+0j)\n",
      "  (11, 11)\t(0.35552070006764125+0j)\n",
      "  (3, 12)\t(0.18121046201519703+0j)\n",
      "  (12, 12)\t(-1.116759307396425+0j)\n",
      "  (13, 13)\t(-0.44561581548217305+0j)\n",
      "  (14, 14)\t(-0.44561581548217305+0j)\n",
      "  (15, 15)\t(0.9231791809225423+0j)\n"
     ]
    }
   ],
   "source": [
    "# Install the necessary packages\n",
    "# Uncomment this line if you haven't installed the packages\n",
    "# !pip install openfermion openfermionpyscf py3Dmol\n",
    "\n",
    "# Import necessary libraries\n",
    "import numpy as np\n",
    "from openfermion.ops import FermionOperator\n",
    "from openfermion.transforms import jordan_wigner\n",
    "from openfermionpyscf import generate_molecular_hamiltonian\n",
    "from openfermion.linalg import get_sparse_operator  # Updated import for sparse operator conversion\n",
    "import py3Dmol  # For molecule visualization\n",
    "\n",
    "# Notebook setup\n",
    "from IPython.display import display, Markdown\n",
    "\n",
    "# Function to display intermediate steps in Markdown format\n",
    "def display_step(step_text):\n",
    "    display(Markdown(f\"### {step_text}\"))\n",
    "\n",
    "# Function to visualize the H2 molecule\n",
    "def visualize_h2_molecule():\n",
    "    # Create a molecule object in py3Dmol\n",
    "    xyz = \"\"\"\n",
    "    H 0.0 0.0 0.0\n",
    "    H 0.0 0.0 0.74\n",
    "    \"\"\"\n",
    "    \n",
    "    # Initialize 3D view for the molecule\n",
    "    view = py3Dmol.view(width=400, height=400)\n",
    "    view.addModel(xyz, \"xyz\")  # Add the molecule in XYZ format\n",
    "    view.setStyle({'stick': {}})  # Show sticks for bonds\n",
    "    view.zoomTo()  # Auto-zoom to fit the molecule in the view\n",
    "    return view\n",
    "\n",
    "# Step 1: Define the H2 molecule geometry and basis set\n",
    "display_step(\"Step 1: Define the H₂ molecule geometry and basis set\")\n",
    "geometry = [('H', (0, 0, 0)), ('H', (0, 0, 0.74))]  # Bond distance ~0.74 Å\n",
    "basis = 'sto-3g'  # Minimal basis set\n",
    "multiplicity = 1  # Singlet state (closed shell)\n",
    "charge = 0  # Neutral H₂ molecule\n",
    "\n",
    "display_step(f\"Defined geometry: {geometry}\\nUsing basis: {basis}\")\n",
    "\n",
    "# Visualize the H₂ molecule\n",
    "display_step(\"Step 2: Visualize the H₂ molecule geometry\")\n",
    "\n",
    "# Show molecule in Jupyter notebook\n",
    "view = visualize_h2_molecule()\n",
    "view.show()\n",
    "\n",
    "# Step 3: Generate the molecular Hamiltonian\n",
    "display_step(\"Step 3: Generate the molecular Hamiltonian using OpenFermion\")\n",
    "\n",
    "molecular_hamiltonian = generate_molecular_hamiltonian(geometry, basis, multiplicity, charge)\n",
    "fermionic_hamiltonian = molecular_hamiltonian\n",
    "\n",
    "# Display the molecular Hamiltonian in FermionOperator form\n",
    "display_step(\"Generated Fermionic Hamiltonian:\")\n",
    "print(fermionic_hamiltonian)\n",
    "\n",
    "# Step 4: Jordan-Wigner Transformation\n",
    "display_step(\"Step 4: Apply the Jordan-Wigner transformation\")\n",
    "\n",
    "jw_hamiltonian = jordan_wigner(fermionic_hamiltonian)\n",
    "\n",
    "# Display the Jordan-Wigner transformed Hamiltonian\n",
    "display_step(\"Jordan-Wigner Transformed Hamiltonian (Pauli Operators):\")\n",
    "print(jw_hamiltonian)\n",
    "\n",
    "# Step 5: Convert to a sparse matrix for further simulation\n",
    "display_step(\"Step 5: Convert the Hamiltonian to a sparse matrix form for further simulation\")\n",
    "\n",
    "jw_sparse_hamiltonian = get_sparse_operator(jw_hamiltonian)  # Using the updated sparse operator method\n",
    "print(jw_sparse_hamiltonian)\n"
   ]
  },
  {
   "cell_type": "code",
   "execution_count": 3,
   "id": "6ef1c2db-fe3a-4efb-85a6-927902ef1f61",
   "metadata": {},
   "outputs": [
    {
     "name": "stdout",
     "output_type": "stream",
     "text": [
      "converged SCF energy = -0.593827758535727\n",
      "converged SCF energy = -0.731352722025651\n",
      "converged SCF energy = -0.834474063581438\n",
      "converged SCF energy = -0.912457217890258\n",
      "converged SCF energy = -0.971623756036452\n",
      "converged SCF energy = -1.01641612763003\n",
      "converged SCF energy = -1.05003897763102\n",
      "converged SCF energy = -1.07486102487998\n",
      "converged SCF energy = -1.09267372408286\n",
      "converged SCF energy = -1.10486057111418\n",
      "converged SCF energy = -1.11250917170902\n",
      "converged SCF energy = -1.11648626650101\n",
      "converged SCF energy = -1.11748885730854\n",
      "converged SCF energy = -1.11608009648701\n",
      "converged SCF energy = -1.11271558249226\n",
      "converged SCF energy = -1.10776361726706\n",
      "converged SCF energy = -1.10152154905598\n",
      "converged SCF energy = -1.09422938179007\n",
      "converged SCF energy = -1.08608125700712\n",
      "converged SCF energy = -1.07723510358347\n",
      "converged SCF energy = -1.06782061595603\n",
      "converged SCF energy = -1.05794569058479\n",
      "converged SCF energy = -1.04770146868534\n",
      "converged SCF energy = -1.03716616422834\n",
      "converged SCF energy = -1.0264078790892\n",
      "converged SCF energy = -1.01548661343422\n",
      "converged SCF energy = -1.00445566848874\n",
      "converged SCF energy = -0.99336261478504\n",
      "converged SCF energy = -0.982249967504027\n",
      "converged SCF energy = -0.971155677036073\n",
      "converged SCF energy = -0.960113511562454\n",
      "converged SCF energy = -0.949153381894137\n",
      "converged SCF energy = -0.938301638117926\n",
      "converged SCF energy = -0.927581352798715\n",
      "converged SCF energy = -0.917012595855108\n",
      "converged SCF energy = -0.906612700709704\n",
      "converged SCF energy = -0.896396518785637\n",
      "converged SCF energy = -0.886376658859226\n",
      "converged SCF energy = -0.876563708358735\n",
      "converged SCF energy = -0.86696643481465\n",
      "converged SCF energy = -0.857591966906811\n",
      "converged SCF energy = -0.84844595567476\n",
      "converged SCF energy = -0.839532717333744\n",
      "converged SCF energy = -0.830855359728401\n",
      "converged SCF energy = -0.822415894767592\n",
      "converged SCF energy = -0.814215339255424\n",
      "converged SCF energy = -0.806253806415028\n",
      "converged SCF energy = -0.798530590147905\n",
      "converged SCF energy = -0.791044243731544\n",
      "converged SCF energy = -0.783792654277353\n"
     ]
    },
    {
     "data": {
      "image/png": "[encoded data removed]",
      "text/plain": [
       "<Figure size 640x480 with 1 Axes>"
      ]
     },
     "metadata": {},
     "output_type": "display_data"
    }
   ],
   "source": [
    "# Install necessary packages\n",
    "# Uncomment this line if you haven't installed the packages\n",
    "# !pip install openfermion openfermionpyscf pyscf scipy matplotlib\n",
    "\n",
    "import numpy as np\n",
    "import matplotlib.pyplot as plt\n",
    "from openfermionpyscf import generate_molecular_hamiltonian\n",
    "from openfermion.transforms import jordan_wigner\n",
    "from openfermion.linalg import get_ground_state, get_sparse_operator\n",
    "from pyscf import scf, gto\n",
    "from scipy.sparse.linalg import eigsh\n",
    "import matplotlib.pyplot as pylab\n",
    "\n",
    "# Define a function to compute the Hartree-Fock energy of H2\n",
    "def compute_h2_hf_energy(bond_length_angstrom, basis='sto-3g'):\n",
    "    # Define the geometry of the H2 molecule in PySCF\n",
    "    mol = gto.M(atom=f'H 0 0 0; H 0 0 {bond_length_angstrom}', basis=basis, unit='angstrom')\n",
    "    \n",
    "    # Perform the Hartree-Fock calculation\n",
    "    mol = mol.build()\n",
    "    mf = scf.RHF(mol)\n",
    "    hf_energy = mf.kernel()\n",
    "    \n",
    "    return hf_energy\n",
    "\n",
    "# Define a function to compute the quantum computing energy of H2\n",
    "def compute_h2_quantum_energy(bond_length_angstrom, basis='sto-3g'):\n",
    "    # Use OpenFermion and PySCF to generate the molecular Hamiltonian\n",
    "    geometry = [('H', (0, 0, 0)), ('H', (0, 0, bond_length_angstrom))]\n",
    "    molecular_hamiltonian = generate_molecular_hamiltonian(geometry, basis, multiplicity=1, charge=0)\n",
    "\n",
    "    # Transform the Hamiltonian into qubit form using the Jordan-Wigner transformation\n",
    "    qubit_hamiltonian = jordan_wigner(molecular_hamiltonian)\n",
    "\n",
    "    # Convert to a sparse matrix\n",
    "    sparse_hamiltonian = get_sparse_operator(qubit_hamiltonian)\n",
    "\n",
    "    # Find the ground state energy by diagonalizing the sparse Hamiltonian\n",
    "    # We use the 'eigsh' function to find the lowest eigenvalue\n",
    "    energy, _ = eigsh(sparse_hamiltonian, k=1, which='SA')  # SA: smallest algebraic eigenvalue\n",
    "\n",
    "    return energy[0]\n",
    "\n",
    "# Define a range of bond lengths in angstroms\n",
    "bond_lengths = np.linspace(0.3, 2.0, 50)  # Bond lengths from 0.3 to 2.0 Å\n",
    "hf_energies = []\n",
    "quantum_energies = []\n",
    "\n",
    "# Loop over the bond lengths and compute the energies using both methods\n",
    "for bond_length in bond_lengths:\n",
    "    # Hartree-Fock energy\n",
    "    hf_energy = compute_h2_hf_energy(bond_length)\n",
    "    hf_energies.append(hf_energy)\n",
    "    \n",
    "    # Quantum computing energy\n",
    "    quantum_energy = compute_h2_quantum_energy(bond_length)\n",
    "    quantum_energies.append(quantum_energy)\n",
    "\n",
    "# Convert the energies to NumPy arrays for easier plotting\n",
    "hf_energies = np.array(hf_energies)\n",
    "quantum_energies = np.array(quantum_energies)\n",
    "\n",
    "# Plot the potential energy surfaces\n",
    "plt.plot(bond_lengths, hf_energies, label=\"Hartree-Fock (classical)\", color='blue')\n",
    "plt.plot(bond_lengths, quantum_energies, label=\"Quantum Computing (qubit form)\", color='red', linestyle='dashed')\n",
    "plt.xlabel('Bond Length (Å)')\n",
    "plt.ylabel('Energy (Hartree)')\n",
    "plt.title('Potential Energy Surface of H₂')\n",
    "\n",
    "# Save the plot to a PDF file\n",
    "pylab.savefig('H2.pdf', format='pdf')\n",
    "\n",
    "plt.grid(True)\n",
    "plt.legend()\n",
    "plt.show()\n"
   ]
  },
  {
   "cell_type": "code",
   "execution_count": null,
   "id": "1ad10e90-3263-4f03-af8e-833da1bc2182",
   "metadata": {},
   "outputs": [],
   "source": [
    "# Install qiskit if not installed\n",
    "# Uncomment this line if you haven't installed the packages\n",
    "# !pip install qiskit qiskit-aer\n",
    "\n",
    "from qiskit import QuantumCircuit, transpile\n",
    "from qiskit_aer import AerSimulator  # Import the AerSimulator from the latest version\n",
    "from qiskit.visualization import plot_histogram\n",
    "import numpy as np\n",
    "import matplotlib.pyplot as plt\n",
    "from qiskit_aer.library import SaveStatevector\n",
    "\n",
    "# Title of the notebook\n",
    "from IPython.display import display, Markdown\n",
    "display(Markdown(\"# Trotterized Evolution and Quantum Simulation of H₂ Molecule\"))\n",
    "\n",
    "# --- Theory ---\n",
    "display(Markdown(\"## 1. Theory: Trotterized Evolution of Quantum Systems\"))\n",
    "\n",
    "display(Markdown(r\"\"\"\n",
    "The **Trotter-Suzuki decomposition** is a method used in quantum computing to approximate the time evolution of a quantum system when its Hamiltonian is composed of multiple non-commuting terms. \n",
    "\n",
    "For a Hamiltonian \\( H \\) that can be written as a sum of non-commuting terms:\n",
    "\\[\n",
    "H = H_1 + H_2 + H_3 + \\dots\n",
    "\\]\n",
    "the exact time evolution operator is given by:\n",
    "\\[\n",
    "U(t) = e^{-iHt}\n",
    "\\]\n",
    "\n",
    "However, since the terms \\( H_1, H_2, \\dots \\) do not commute, directly applying the time evolution operator is difficult. Instead, we can approximate it by breaking it down into smaller steps. This is known as **Trotterization**.\n",
    "\n",
    "The first-order Trotter decomposition approximates the time evolution as:\n",
    "\\[\n",
    "e^{-iHt} \\approx \\left(e^{-iH_1 \\Delta t} e^{-iH_2 \\Delta t} \\dots \\right)^n\n",
    "\\]\n",
    "where \\( \\Delta t = \\frac{t}{n} \\) and \\( n \\) is the number of Trotter steps. The higher the value of \\( n \\), the better the approximation becomes.\n",
    "\n",
    "### Application to Quantum Simulation\n",
    "For the hydrogen molecule, the Hamiltonian is typically composed of Pauli operators such as \\( Z, X, ZZ, XX \\). Using the Trotter-Suzuki method, we decompose the evolution of the molecule's Hamiltonian into a series of quantum gates, which can be implemented on a quantum computer.\n",
    "\"\"\"))\n",
    "\n",
    "# --- Quantum Circuit ---\n",
    "display(Markdown(\"## 2. Implementation of Trotterized Evolution for Hydrogen Molecule\"))\n",
    "\n",
    "display(Markdown(r\"\"\"\n",
    "In this section, we implement the Trotterized evolution for the hydrogen molecule \\( H_2 \\). The Hamiltonian for \\( H_2 \\) can be expressed as a sum of Pauli terms:\n",
    "\\[\n",
    "H = c_0 I + c_1 Z_0 + c_2 Z_1 + c_3 Z_0 Z_1 + c_4 X_0 X_1\n",
    "\\]\n",
    "where \\( Z_0, Z_1 \\) are Pauli-Z operators, \\( X_0, X_1 \\) are Pauli-X operators, and \\( c_0, c_1, \\dots \\) are coefficients determined by the molecule's interactions.\n",
    "\n",
    "Using the Trotter-Suzuki decomposition, we approximate the evolution of this Hamiltonian over time by sequentially applying the evolution for each individual Pauli term.\n",
    "\"\"\"))\n",
    "\n",
    "# Define the Trotterized evolution circuit\n",
    "def trotterized_h2_circuit(t, n):\n",
    "    \"\"\"\n",
    "    t: time to evolve\n",
    "    n: number of trotter steps\n",
    "    Returns a quantum circuit for the trotterized time evolution of the H2 Hamiltonian.\n",
    "    \"\"\"\n",
    "    qc = QuantumCircuit(2)\n",
    "    \n",
    "    # Time step for each Trotter step\n",
    "    delta_t = t / n\n",
    "    \n",
    "    # Hamiltonian coefficients (example values for H2)\n",
    "    c0 = 0.5   # I term\n",
    "    c1 = -1.0  # Z_0 term\n",
    "    c2 = -1.0  # Z_1 term\n",
    "    c3 = 0.5   # Z_0 Z_1 term\n",
    "    c4 = 0.1   # X_0 X_1 term\n",
    "    \n",
    "    # Trotterize the Hamiltonian: Apply evolution for each term in the Hamiltonian\n",
    "    for _ in range(n):\n",
    "        # Apply Z_0 evolution: exp(-i * c1 * Z_0 * delta_t)\n",
    "        qc.rz(2 * c1 * delta_t, 0)\n",
    "        \n",
    "        # Apply Z_1 evolution: exp(-i * c2 * Z_1 * delta_t)\n",
    "        qc.rz(2 * c2 * delta_t, 1)\n",
    "        \n",
    "        # Apply Z_0 Z_1 evolution: exp(-i * c3 * Z_0 Z_1 * delta_t)\n",
    "        qc.cx(0, 1)\n",
    "        qc.rz(2 * c3 * delta_t, 1)\n",
    "        qc.cx(0, 1)\n",
    "        \n",
    "        # Apply X_0 X_1 evolution: exp(-i * c4 * X_0 X_1 * delta_t)\n",
    "        qc.h(0)\n",
    "        qc.h(1)\n",
    "        qc.cx(0, 1)\n",
    "        qc.rz(2 * c4 * delta_t, 1)\n",
    "        qc.cx(0, 1)\n",
    "        qc.h(0)\n",
    "        qc.h(1)\n",
    "    \n",
    "    # Save the statevector at the end of the circuit\n",
    "    qc.save_statevector()\n",
    "\n",
    "    # Return the quantum circuit\n",
    "    return qc\n",
    "\n",
    "# Define parameters for the simulation\n",
    "t = 1.0   # Total time for evolution\n",
    "n = 5     # Number of Trotter steps\n",
    "\n",
    "# Create the Trotterized circuit\n",
    "qc = trotterized_h2_circuit(t, n)\n",
    "\n",
    "# Draw the quantum circuit\n",
    "display(Markdown(\"### Generated Quantum Circuit for Trotterized Evolution\"))\n",
    "qc.draw(output='mpl')\n",
    "\n",
    "# --- Quantum Simulation ---\n",
    "display(Markdown(\"## 3. Simulating the Quantum Circuit\"))\n",
    "\n",
    "display(Markdown(r\"\"\"\n",
    "Now that we have constructed the quantum circuit for the Trotterized evolution of the hydrogen molecule, we will use **Qiskit's AerSimulator** to simulate the final quantum state (statevector). This will give us the result of the Trotterized evolution at the chosen time \\( t \\).\n",
    "\"\"\"))\n",
    "\n",
    "# Use the AerSimulator for simulation\n",
    "simulator = AerSimulator()\n",
    "\n",
    "# Transpile the circuit for the AerSimulator backend\n",
    "qc_sim = transpile(qc, simulator)\n",
    "\n",
    "# Run the simulation and get the result (ensure statevector is requested)\n",
    "result = simulator.run(qc_sim).result()\n",
    "\n",
    "# Get the statevector after the simulation\n",
    "statevector = result.get_statevector()\n",
    "\n",
    "# Display the statevector\n",
    "display(Markdown(\"### Final Statevector after Trotterized Evolution\"))\n",
    "print(\"Final statevector:\")\n",
    "print(statevector)\n",
    "\n",
    "# Visualize the final statevector (real and imaginary parts)\n",
    "display(Markdown(\"### Visualization of the Final Statevector\"))\n",
    "statevector_real = np.real(statevector)\n",
    "statevector_imag = np.imag(statevector)\n",
    "plt.bar(range(len(statevector_real)), statevector_real, color='b', alpha=0.7, label='Real')\n",
    "plt.bar(range(len(statevector_imag)), statevector_imag, color='r', alpha=0.7, label='Imaginary')\n",
    "plt.legend()\n",
    "plt.title('Statevector Components After Trotterized Evolution')\n",
    "plt.show()\n",
    "\n",
    "# --- Conclusion ---\n",
    "display(Markdown(\"## 4. Conclusion\"))\n",
    "\n",
    "display(Markdown(r\"\"\"\n",
    "In this notebook, we have explored the theory behind **Trotterized evolution** and implemented it for the hydrogen molecule using quantum gates. We constructed a quantum circuit that simulates the time evolution of the molecular Hamiltonian and used **Qiskit's AerSimulator** to simulate the final quantum state.\n",
    "\n",
    "The **Trotter-Suzuki decomposition** allows us to approximate the evolution of a complex Hamiltonian by decomposing it into smaller terms, which can be implemented using standard quantum gates. This method is widely used in quantum simulations for chemistry and materials science.\n",
    "\"\"\"))\n"
   ]
  },
  {
   "cell_type": "code",
   "execution_count": null,
   "id": "33203e06-f7d4-46a6-ab87-856eb496c53f",
   "metadata": {
    "editable": true,
    "slideshow": {
     "slide_type": ""
    },
    "tags": []
   },
   "outputs": [],
   "source": [
    "# Install qiskit if not installed\n",
    "# Uncomment this line if you haven't installed the packages\n",
    "# !pip install qiskit qiskit-aer\n",
    "\n",
    "from qiskit import QuantumCircuit, transpile\n",
    "from qiskit_aer import AerSimulator  # Import the AerSimulator from the latest version\n",
    "from qiskit.visualization import circuit_drawer\n",
    "\n",
    "# Function to create the Trotterized evolution circuit for the hydrogen molecule\n",
    "def trotterized_h2_circuit(t, n):\n",
    "    \"\"\"\n",
    "    t: time to evolve\n",
    "    n: number of trotter steps\n",
    "    Returns a quantum circuit for the trotterized time evolution of the H2 Hamiltonian.\n",
    "    \"\"\"\n",
    "    qc = QuantumCircuit(2)\n",
    "    \n",
    "    # Time step for each Trotter step\n",
    "    delta_t = t / n\n",
    "    \n",
    "    # Hamiltonian coefficients (example values for H2)\n",
    "    c0 = 0.5   # I term\n",
    "    c1 = -1.0  # Z_0 term\n",
    "    c2 = -1.0  # Z_1 term\n",
    "    c3 = 0.5   # Z_0 Z_1 term\n",
    "    c4 = 0.1   # X_0 X_1 term\n",
    "    \n",
    "    # Trotterize the Hamiltonian: Apply evolution for each term in the Hamiltonian\n",
    "    for _ in range(n):\n",
    "        # Apply Z_0 evolution: exp(-i * c1 * Z_0 * delta_t)\n",
    "        qc.rz(2 * c1 * delta_t, 0)\n",
    "        \n",
    "        # Apply Z_1 evolution: exp(-i * c2 * Z_1 * delta_t)\n",
    "        qc.rz(2 * c2 * delta_t, 1)\n",
    "        \n",
    "        # Apply Z_0 Z_1 evolution: exp(-i * c3 * Z_0 Z_1 * delta_t)\n",
    "        qc.cx(0, 1)\n",
    "        qc.rz(2 * c3 * delta_t, 1)\n",
    "        qc.cx(0, 1)\n",
    "        \n",
    "        # Apply X_0 X_1 evolution: exp(-i * c4 * X_0 X_1 * delta_t)\n",
    "        qc.h(0)\n",
    "        qc.h(1)\n",
    "        qc.cx(0, 1)\n",
    "        qc.rz(2 * c4 * delta_t, 1)\n",
    "        qc.cx(0, 1)\n",
    "        qc.h(0)\n",
    "        qc.h(1)\n",
    "    \n",
    "    # Save the statevector at the end of the circuit\n",
    "    qc.save_statevector()\n",
    "\n",
    "    # Return the quantum circuit\n",
    "    return qc\n",
    "\n",
    "# Define parameters for the simulation\n",
    "t = 1.0   # Total time for evolution\n",
    "n = 5     # Number of Trotter steps\n",
    "\n",
    "# Create the Trotterized circuit\n",
    "qc = trotterized_h2_circuit(t, n)\n",
    "\n",
    "# Draw the quantum circuit\n",
    "qc.draw(output='mpl')\n"
   ]
  },
  {
   "cell_type": "code",
   "execution_count": 5,
   "id": "047adb48-aab4-43b8-b571-c116cf4e2faf",
   "metadata": {
    "editable": true,
    "slideshow": {
     "slide_type": ""
    },
    "tags": []
   },
   "outputs": [
    {
     "data": {
      "text/markdown": [
       "# Quantum Circuit Construction and PES Calculation for H₂ Molecule with Pauli Matrices"
      ],
      "text/plain": [
       "<IPython.core.display.Markdown object>"
      ]
     },
     "metadata": {},
     "output_type": "display_data"
    },
    {
     "data": {
      "text/markdown": [
       "## 1. Molecular Hamiltonian and Jordan-Wigner Transformation"
      ],
      "text/plain": [
       "<IPython.core.display.Markdown object>"
      ]
     },
     "metadata": {},
     "output_type": "display_data"
    },
    {
     "data": {
      "text/markdown": [
       "\n",
       "The hydrogen molecule \\( H_2 \\) can be described by a molecular Hamiltonian derived from quantum chemistry. The molecular Hamiltonian is expressed in terms of fermionic creation and annihilation operators.\n",
       "\n",
       "To simulate this Hamiltonian on a quantum computer, we first use the **Jordan-Wigner transformation** to map the fermionic operators to qubit operators (Pauli matrices such as \\( X, Y, Z \\)).\n",
       "\n",
       "This allows us to express the molecular Hamiltonian as a sum of Pauli terms that can be directly implemented using quantum gates.\n"
      ],
      "text/plain": [
       "<IPython.core.display.Markdown object>"
      ]
     },
     "metadata": {},
     "output_type": "display_data"
    },
    {
     "data": {
      "text/markdown": [
       "### Generated H₂ Hamiltonian at bond length 0.74 Å"
      ],
      "text/plain": [
       "<IPython.core.display.Markdown object>"
      ]
     },
     "metadata": {},
     "output_type": "display_data"
    },
    {
     "name": "stdout",
     "output_type": "stream",
     "text": [
      "() 0.7151043390810812\n",
      "((0, 1), (0, 0)) -1.2533097866459773\n",
      "((1, 1), (1, 0)) -1.2533097866459773\n",
      "((2, 1), (2, 0)) -0.47506884877217775\n",
      "((3, 1), (3, 0)) -0.47506884877217775\n",
      "((0, 1), (0, 1), (0, 0), (0, 0)) 0.3373779634072241\n",
      "((0, 1), (0, 1), (2, 0), (2, 0)) 0.09060523100759851\n",
      "((0, 1), (1, 1), (1, 0), (0, 0)) 0.3373779634072241\n",
      "((0, 1), (1, 1), (3, 0), (2, 0)) 0.09060523100759851\n",
      "((0, 1), (2, 1), (0, 0), (2, 0)) 0.09060523100759851\n",
      "((0, 1), (2, 1), (2, 0), (0, 0)) 0.33185570067540676\n",
      "((0, 1), (3, 1), (1, 0), (2, 0)) 0.09060523100759851\n",
      "((0, 1), (3, 1), (3, 0), (0, 0)) 0.33185570067540676\n",
      "((1, 1), (0, 1), (0, 0), (1, 0)) 0.3373779634072241\n",
      "((1, 1), (0, 1), (2, 0), (3, 0)) 0.09060523100759851\n",
      "((1, 1), (1, 1), (1, 0), (1, 0)) 0.3373779634072241\n",
      "((1, 1), (1, 1), (3, 0), (3, 0)) 0.09060523100759851\n",
      "((1, 1), (2, 1), (0, 0), (3, 0)) 0.09060523100759851\n",
      "((1, 1), (2, 1), (2, 0), (1, 0)) 0.33185570067540676\n",
      "((1, 1), (3, 1), (1, 0), (3, 0)) 0.09060523100759851\n",
      "((1, 1), (3, 1), (3, 0), (1, 0)) 0.33185570067540676\n",
      "((2, 1), (0, 1), (0, 0), (2, 0)) 0.33185570067540676\n",
      "((2, 1), (0, 1), (2, 0), (0, 0)) 0.09060523100759851\n",
      "((2, 1), (1, 1), (1, 0), (2, 0)) 0.33185570067540676\n",
      "((2, 1), (1, 1), (3, 0), (0, 0)) 0.09060523100759851\n",
      "((2, 1), (2, 1), (0, 0), (0, 0)) 0.09060523100759851\n",
      "((2, 1), (2, 1), (2, 0), (2, 0)) 0.3488257522452315\n",
      "((2, 1), (3, 1), (1, 0), (0, 0)) 0.09060523100759851\n",
      "((2, 1), (3, 1), (3, 0), (2, 0)) 0.3488257522452315\n",
      "((3, 1), (0, 1), (0, 0), (3, 0)) 0.33185570067540676\n",
      "((3, 1), (0, 1), (2, 0), (1, 0)) 0.09060523100759851\n",
      "((3, 1), (1, 1), (1, 0), (3, 0)) 0.33185570067540676\n",
      "((3, 1), (1, 1), (3, 0), (1, 0)) 0.09060523100759851\n",
      "((3, 1), (2, 1), (0, 0), (1, 0)) 0.09060523100759851\n",
      "((3, 1), (2, 1), (2, 0), (3, 0)) 0.3488257522452315\n",
      "((3, 1), (3, 1), (1, 0), (1, 0)) 0.09060523100759851\n",
      "((3, 1), (3, 1), (3, 0), (3, 0)) 0.3488257522452315\n",
      "\n"
     ]
    },
    {
     "data": {
      "text/markdown": [
       "## 2. Jordan-Wigner Transformation"
      ],
      "text/plain": [
       "<IPython.core.display.Markdown object>"
      ]
     },
     "metadata": {},
     "output_type": "display_data"
    },
    {
     "data": {
      "text/markdown": [
       "\n",
       "The **Jordan-Wigner transformation** maps the fermionic creation and annihilation operators to qubit operators. This allows us to represent the molecular Hamiltonian in terms of Pauli matrices, which can be implemented on quantum computers.\n"
      ],
      "text/plain": [
       "<IPython.core.display.Markdown object>"
      ]
     },
     "metadata": {},
     "output_type": "display_data"
    },
    {
     "data": {
      "text/markdown": [
       "### Jordan-Wigner Transformed Hamiltonian"
      ],
      "text/plain": [
       "<IPython.core.display.Markdown object>"
      ]
     },
     "metadata": {},
     "output_type": "display_data"
    },
    {
     "name": "stdout",
     "output_type": "stream",
     "text": [
      "-0.09706626816763103 [] +\n",
      "-0.04530261550379926 [X0 X1 Y2 Y3] +\n",
      "0.04530261550379926 [X0 Y1 Y2 X3] +\n",
      "0.04530261550379926 [Y0 X1 X2 Y3] +\n",
      "-0.04530261550379926 [Y0 Y1 X2 X3] +\n",
      "0.17141282644776915 [Z0] +\n",
      "0.16868898170361205 [Z0 Z1] +\n",
      "0.12062523483390411 [Z0 Z2] +\n",
      "0.16592785033770338 [Z0 Z3] +\n",
      "0.1714128264477691 [Z1] +\n",
      "0.16592785033770338 [Z1 Z2] +\n",
      "0.12062523483390411 [Z1 Z3] +\n",
      "-0.22343153690813436 [Z2] +\n",
      "0.17441287612261575 [Z2 Z3] +\n",
      "-0.22343153690813436 [Z3]\n"
     ]
    },
    {
     "data": {
      "text/markdown": [
       "## 3. Quantum Circuit Construction with Pauli Matrices"
      ],
      "text/plain": [
       "<IPython.core.display.Markdown object>"
      ]
     },
     "metadata": {},
     "output_type": "display_data"
    },
    {
     "data": {
      "text/markdown": [
       "\n",
       "Each term in the transformed Hamiltonian corresponds to Pauli matrices like \\( X, Y, Z \\). These Pauli terms are implemented as quantum gates in the circuit:\n",
       "- \\( X \\): Corresponds to the **Hadamard gate (H)** followed by other rotations.\n",
       "- \\( Y \\): Is implemented as the **S† gate** followed by a **Hadamard gate**.\n",
       "- \\( Z \\): Is a phase flip and does not require an additional gate.\n"
      ],
      "text/plain": [
       "<IPython.core.display.Markdown object>"
      ]
     },
     "metadata": {},
     "output_type": "display_data"
    },
    {
     "data": {
      "text/markdown": [
       "### Generated Quantum Circuit Corresponding to Pauli Matrices"
      ],
      "text/plain": [
       "<IPython.core.display.Markdown object>"
      ]
     },
     "metadata": {},
     "output_type": "display_data"
    },
    {
     "data": {
      "text/markdown": [
       "## 4. Optimizing the Quantum Circuit"
      ],
      "text/plain": [
       "<IPython.core.display.Markdown object>"
      ]
     },
     "metadata": {},
     "output_type": "display_data"
    },
    {
     "data": {
      "text/markdown": [
       "\n",
       "We now optimize the quantum circuit by reducing the number of gates and eliminating unnecessary operations. Optimizing the circuit improves performance when running on actual quantum hardware.\n"
      ],
      "text/plain": [
       "<IPython.core.display.Markdown object>"
      ]
     },
     "metadata": {},
     "output_type": "display_data"
    },
    {
     "data": {
      "text/markdown": [
       "### Optimized Quantum Circuit"
      ],
      "text/plain": [
       "<IPython.core.display.Markdown object>"
      ]
     },
     "metadata": {},
     "output_type": "display_data"
    },
    {
     "data": {
      "text/markdown": [
       "## 5. Potential Energy Surface Calculation"
      ],
      "text/plain": [
       "<IPython.core.display.Markdown object>"
      ]
     },
     "metadata": {},
     "output_type": "display_data"
    },
    {
     "data": {
      "text/markdown": [
       "\n",
       "We now calculate the **Potential Energy Surface (PES)** of the hydrogen molecule by evaluating the energy at different bond lengths.\n",
       "\n",
       "We will extract the energy eigenvalues for different bond lengths and plot the PES.\n"
      ],
      "text/plain": [
       "<IPython.core.display.Markdown object>"
      ]
     },
     "metadata": {},
     "output_type": "display_data"
    },
    {
     "data": {
      "image/png": "[encoded data removed]",
      "text/plain": [
       "<Figure size 640x480 with 1 Axes>"
      ]
     },
     "metadata": {},
     "output_type": "display_data"
    },
    {
     "data": {
      "text/markdown": [
       "## 6. Conclusion"
      ],
      "text/plain": [
       "<IPython.core.display.Markdown object>"
      ]
     },
     "metadata": {},
     "output_type": "display_data"
    },
    {
     "data": {
      "text/markdown": [
       "\n",
       "In this notebook, we have demonstrated how to:\n",
       "1. **Generate the molecular Hamiltonian** for the hydrogen molecule using **OpenFermion**.\n",
       "2. **Apply the Jordan-Wigner transformation** to map the fermionic Hamiltonian to qubit operators.\n",
       "3. **Construct and optimize the quantum circuit** for simulating the hydrogen molecule, including visualization of quantum gates corresponding to the Pauli matrices \\( X, Y, Z \\).\n",
       "4. **Calculate the Potential Energy Surface (PES)** of the hydrogen molecule by evaluating the ground state energy at different bond lengths.\n",
       "\n",
       "This process shows how quantum algorithms can be used to simulate molecular systems, with applications in quantum chemistry and materials science.\n"
      ],
      "text/plain": [
       "<IPython.core.display.Markdown object>"
      ]
     },
     "metadata": {},
     "output_type": "display_data"
    }
   ],
   "source": [
    "# Install necessary packages\n",
    "# Uncomment this line if you haven't installed the packages\n",
    "# !pip install openfermion openfermionpyscf qiskit qiskit-aer matplotlib\n",
    "\n",
    "from openfermionpyscf import generate_molecular_hamiltonian\n",
    "from openfermion.transforms import jordan_wigner\n",
    "from openfermion.linalg import get_sparse_operator\n",
    "from scipy.sparse.linalg import eigsh\n",
    "from qiskit import QuantumCircuit, transpile\n",
    "from qiskit_aer import AerSimulator  # Updated for the latest version\n",
    "from qiskit.visualization import circuit_drawer\n",
    "import numpy as np\n",
    "import matplotlib.pyplot as plt\n",
    "\n",
    "# Title of the notebook\n",
    "from IPython.display import display, Markdown\n",
    "display(Markdown(\"# Quantum Circuit Construction and PES Calculation for H₂ Molecule with Pauli Matrices\"))\n",
    "\n",
    "# --- Theory: Molecular Hamiltonian and Jordan-Wigner Transformation ---\n",
    "display(Markdown(\"## 1. Molecular Hamiltonian and Jordan-Wigner Transformation\"))\n",
    "\n",
    "display(Markdown(\"\"\"\n",
    "The hydrogen molecule \\( H_2 \\) can be described by a molecular Hamiltonian derived from quantum chemistry. The molecular Hamiltonian is expressed in terms of fermionic creation and annihilation operators.\n",
    "\n",
    "To simulate this Hamiltonian on a quantum computer, we first use the **Jordan-Wigner transformation** to map the fermionic operators to qubit operators (Pauli matrices such as \\( X, Y, Z \\)).\n",
    "\n",
    "This allows us to express the molecular Hamiltonian as a sum of Pauli terms that can be directly implemented using quantum gates.\n",
    "\"\"\"))\n",
    "\n",
    "# Define the geometry of the H2 molecule and create the molecular Hamiltonian\n",
    "def generate_h2_hamiltonian(bond_length):\n",
    "    geometry = [('H', (0, 0, 0)), ('H', (0, 0, bond_length))]  # Bond length in Å\n",
    "    basis = 'sto-3g'  # Minimal basis set\n",
    "    multiplicity = 1  # Singlet state\n",
    "    charge = 0  # Neutral molecule\n",
    "    \n",
    "    # Generate the molecular Hamiltonian using OpenFermion-PySCF\n",
    "    molecular_hamiltonian = generate_molecular_hamiltonian(geometry, basis, multiplicity, charge)\n",
    "    \n",
    "    return molecular_hamiltonian\n",
    "\n",
    "# Example: generate the H2 Hamiltonian at bond length 0.74 Å (equilibrium distance)\n",
    "bond_length = 0.74\n",
    "h2_hamiltonian = generate_h2_hamiltonian(bond_length)\n",
    "\n",
    "display(Markdown(f\"### Generated H₂ Hamiltonian at bond length {bond_length} Å\"))\n",
    "print(h2_hamiltonian)\n",
    "\n",
    "# --- Jordan-Wigner Transformation ---\n",
    "display(Markdown(\"## 2. Jordan-Wigner Transformation\"))\n",
    "\n",
    "display(Markdown(\"\"\"\n",
    "The **Jordan-Wigner transformation** maps the fermionic creation and annihilation operators to qubit operators. This allows us to represent the molecular Hamiltonian in terms of Pauli matrices, which can be implemented on quantum computers.\n",
    "\"\"\"))\n",
    "\n",
    "# Apply the Jordan-Wigner transformation to the Hamiltonian\n",
    "jw_hamiltonian = jordan_wigner(h2_hamiltonian)\n",
    "\n",
    "display(Markdown(\"### Jordan-Wigner Transformed Hamiltonian\"))\n",
    "print(jw_hamiltonian)\n",
    "\n",
    "# --- Quantum Circuit Construction ---\n",
    "display(Markdown(\"## 3. Quantum Circuit Construction with Pauli Matrices\"))\n",
    "\n",
    "display(Markdown(\"\"\"\n",
    "Each term in the transformed Hamiltonian corresponds to Pauli matrices like \\( X, Y, Z \\). These Pauli terms are implemented as quantum gates in the circuit:\n",
    "- \\( X \\): Corresponds to the **Hadamard gate (H)** followed by other rotations.\n",
    "- \\( Y \\): Is implemented as the **S† gate** followed by a **Hadamard gate**.\n",
    "- \\( Z \\): Is a phase flip and does not require an additional gate.\n",
    "\"\"\"))\n",
    "\n",
    "# Create a function to construct the quantum circuit from the Jordan-Wigner transformed Hamiltonian\n",
    "def create_hamiltonian_circuit(jw_hamiltonian):\n",
    "    qc = QuantumCircuit(4)  # Define a 4-qubit circuit (H2 molecule)\n",
    "    \n",
    "    # Extract the terms and coefficients from the Hamiltonian\n",
    "    for term, coefficient in jw_hamiltonian.terms.items():\n",
    "        # Each term is a tuple of Pauli operators (e.g., ('X0', 'Z1'))\n",
    "        if term == ():\n",
    "            continue  # Skip identity term\n",
    "        \n",
    "        # Apply the corresponding gates for each Pauli term\n",
    "        for qubit, op in term:\n",
    "            if qubit >= 4:\n",
    "                raise ValueError(f\"Qubit index {qubit} is out of range for this circuit.\")\n",
    "            \n",
    "            if op == 'X':\n",
    "                qc.h(qubit)  # Apply Hadamard for Pauli-X\n",
    "            elif op == 'Y':\n",
    "                qc.sdg(qubit)  # Apply S† for Pauli-Y\n",
    "                qc.h(qubit)  # Then apply Hadamard for Y\n",
    "            elif op == 'Z':\n",
    "                pass  # Z is just a phase flip, no additional gates needed\n",
    "        \n",
    "        # Apply the rotation gate corresponding to the coefficient\n",
    "        qc.rz(2 * coefficient, qubit)\n",
    "    \n",
    "    return qc\n",
    "\n",
    "# Generate the quantum circuit\n",
    "h2_circuit = create_hamiltonian_circuit(jw_hamiltonian)\n",
    "\n",
    "# Draw the quantum circuit\n",
    "display(Markdown(\"### Generated Quantum Circuit Corresponding to Pauli Matrices\"))\n",
    "h2_circuit.draw(output='mpl')\n",
    "\n",
    "# --- Optimize the Quantum Circuit ---\n",
    "display(Markdown(\"## 4. Optimizing the Quantum Circuit\"))\n",
    "\n",
    "display(Markdown(\"\"\"\n",
    "We now optimize the quantum circuit by reducing the number of gates and eliminating unnecessary operations. Optimizing the circuit improves performance when running on actual quantum hardware.\n",
    "\"\"\"))\n",
    "\n",
    "# Transpile and optimize the circuit for the AerSimulator backend\n",
    "simulator = AerSimulator()\n",
    "h2_circuit_opt = transpile(h2_circuit, simulator)\n",
    "\n",
    "# Draw the optimized circuit\n",
    "display(Markdown(\"### Optimized Quantum Circuit\"))\n",
    "h2_circuit_opt.draw(output='mpl')\n",
    "\n",
    "# --- Potential Energy Surface (PES) Calculation ---\n",
    "display(Markdown(\"## 5. Potential Energy Surface Calculation\"))\n",
    "\n",
    "display(Markdown(\"\"\"\n",
    "We now calculate the **Potential Energy Surface (PES)** of the hydrogen molecule by evaluating the energy at different bond lengths.\n",
    "\n",
    "We will extract the energy eigenvalues for different bond lengths and plot the PES.\n",
    "\"\"\"))\n",
    "\n",
    "# Function to compute the ground state energy using the Jordan-Wigner transformed Hamiltonian\n",
    "def compute_ground_state_energy(jw_hamiltonian):\n",
    "    sparse_hamiltonian = get_sparse_operator(jw_hamiltonian)\n",
    "    \n",
    "    # Compute the ground state energy (smallest eigenvalue) using sparse matrix diagonalization\n",
    "    energy, _ = eigsh(sparse_hamiltonian, k=1, which='SA')\n",
    "    \n",
    "    return energy[0]\n",
    "\n",
    "# Define a range of bond lengths and compute the ground state energy for each length\n",
    "bond_lengths = np.linspace(0.3, 2.0, 50)  # Bond lengths from 0.3 Å to 2.0 Å\n",
    "energies = []\n",
    "\n",
    "for bond_length in bond_lengths:\n",
    "    h2_hamiltonian = generate_h2_hamiltonian(bond_length)\n",
    "    jw_hamiltonian = jordan_wigner(h2_hamiltonian)\n",
    "    energy = compute_ground_state_energy(jw_hamiltonian)\n",
    "    energies.append(energy)\n",
    "\n",
    "# Plot the Potential Energy Surface (PES)\n",
    "plt.plot(bond_lengths, energies, marker='o', color='b', label=\"Ground State Energy\")\n",
    "plt.xlabel(\"Bond Length (Å)\")\n",
    "plt.ylabel(\"Energy (Hartree)\")\n",
    "plt.title(\"Potential Energy Surface of H₂ Molecule\")\n",
    "plt.grid(True)\n",
    "plt.legend()\n",
    "plt.show()\n",
    "\n",
    "# --- Conclusion ---\n",
    "display(Markdown(\"## 6. Conclusion\"))\n",
    "\n",
    "display(Markdown(\"\"\"\n",
    "In this notebook, we have demonstrated how to:\n",
    "1. **Generate the molecular Hamiltonian** for the hydrogen molecule using **OpenFermion**.\n",
    "2. **Apply the Jordan-Wigner transformation** to map the fermionic Hamiltonian to qubit operators.\n",
    "3. **Construct and optimize the quantum circuit** for simulating the hydrogen molecule, including visualization of quantum gates corresponding to the Pauli matrices \\( X, Y, Z \\).\n",
    "4. **Calculate the Potential Energy Surface (PES)** of the hydrogen molecule by evaluating the ground state energy at different bond lengths.\n",
    "\n",
    "This process shows how quantum algorithms can be used to simulate molecular systems, with applications in quantum chemistry and materials science.\n",
    "\"\"\"))\n"
   ]
  },
  {
   "cell_type": "code",
   "execution_count": null,
   "id": "4f6e97d5-33bd-43a8-9f54-01c4d2756268",
   "metadata": {
    "editable": true,
    "slideshow": {
     "slide_type": ""
    },
    "tags": []
   },
   "outputs": [],
   "source": []
  }
 ],
 "metadata": {
  "kernelspec": {
   "display_name": "Python 3 (ipykernel)",
   "language": "python",
   "name": "python3"
  },
  "language_info": {
   "codemirror_mode": {
    "name": "ipython",
    "version": 3
   },
   "file_extension": ".py",
   "mimetype": "text/x-python",
   "name": "python",
   "nbconvert_exporter": "python",
   "pygments_lexer": "ipython3",
   "version": "3.11.9"
  }
 },
 "nbformat": 4,
 "nbformat_minor": 5
}
