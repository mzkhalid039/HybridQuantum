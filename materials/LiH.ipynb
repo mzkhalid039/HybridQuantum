{
 "cells": [
  {
   "cell_type": "code",
   "execution_count": 1,
   "id": "62890226-626d-4c0f-a410-a39d5c26b1b0",
   "metadata": {},
   "outputs": [
    {
     "data": {
      "text/markdown": [
       "### Processing bond distance: 0.5 Å"
      ],
      "text/plain": [
       "<IPython.core.display.Markdown object>"
      ]
     },
     "metadata": {},
     "output_type": "display_data"
    },
    {
     "name": "stdout",
     "output_type": "stream",
     "text": [
      "converged SCF energy = -237.38378808817\n",
      "CASCI E = -237.426766044325  E(CI) = -3.43229327375488  S^2 = 2.0000000\n",
      "Bond distance: 0.50 Å, HF Energy: -237.38378809 Hartree, CASCI Energy: -237.42676604 Hartree\n",
      "Results saved in folder: LiH_Full/AlH_50\n"
     ]
    },
    {
     "data": {
      "text/markdown": [
       "### Processing bond distance: 0.55 Å"
      ],
      "text/plain": [
       "<IPython.core.display.Markdown object>"
      ]
     },
     "metadata": {},
     "output_type": "display_data"
    },
    {
     "name": "stdout",
     "output_type": "stream",
     "text": [
      "converged SCF energy = -237.763058702601\n",
      "CASCI E = -237.791231021523  E(CI) = -3.45213082672493  S^2 = 2.0000000\n",
      "Bond distance: 0.55 Å, HF Energy: -237.76305870 Hartree, CASCI Energy: -237.79123102 Hartree\n",
      "Results saved in folder: LiH_Full/AlH_55\n"
     ]
    },
    {
     "data": {
      "text/markdown": [
       "### Processing bond distance: 0.6 Å"
      ],
      "text/plain": [
       "<IPython.core.display.Markdown object>"
      ]
     },
     "metadata": {},
     "output_type": "display_data"
    },
    {
     "name": "stdout",
     "output_type": "stream",
     "text": [
      "converged SCF energy = -238.069984052287\n",
      "CASCI E = -238.085197571932  E(CI) = -3.48508513237928  S^2 = 0.0000000\n",
      "Bond distance: 0.60 Å, HF Energy: -238.06998405 Hartree, CASCI Energy: -238.08519757 Hartree\n",
      "Results saved in folder: LiH_Full/AlH_60\n"
     ]
    },
    {
     "data": {
      "text/markdown": [
       "### Processing bond distance: 0.65 Å"
      ],
      "text/plain": [
       "<IPython.core.display.Markdown object>"
      ]
     },
     "metadata": {},
     "output_type": "display_data"
    },
    {
     "name": "stdout",
     "output_type": "stream",
     "text": [
      "converged SCF energy = -238.326520535613\n",
      "CASCI E = -238.341217474744  E(CI) = -3.53434457823394  S^2 = 0.0000000\n",
      "Bond distance: 0.65 Å, HF Energy: -238.32652054 Hartree, CASCI Energy: -238.34121747 Hartree\n",
      "Results saved in folder: LiH_Full/AlH_65\n"
     ]
    },
    {
     "data": {
      "text/markdown": [
       "### Processing bond distance: 0.7 Å"
      ],
      "text/plain": [
       "<IPython.core.display.Markdown object>"
      ]
     },
     "metadata": {},
     "output_type": "display_data"
    },
    {
     "name": "stdout",
     "output_type": "stream",
     "text": [
      "converged SCF energy = -238.543074366657\n",
      "CASCI E = -238.557439364640  E(CI) = -3.57947620144728  S^2 = 0.0000000\n",
      "Bond distance: 0.70 Å, HF Energy: -238.54307437 Hartree, CASCI Energy: -238.55743936 Hartree\n",
      "Results saved in folder: LiH_Full/AlH_70\n"
     ]
    },
    {
     "data": {
      "text/markdown": [
       "### Processing bond distance: 0.75 Å"
      ],
      "text/plain": [
       "<IPython.core.display.Markdown object>"
      ]
     },
     "metadata": {},
     "output_type": "display_data"
    },
    {
     "name": "stdout",
     "output_type": "stream",
     "text": [
      "converged SCF energy = -238.725079289731\n",
      "CASCI E = -238.739242988465  E(CI) = -3.61459065528550  S^2 = 0.0000000\n",
      "Bond distance: 0.75 Å, HF Energy: -238.72507929 Hartree, CASCI Energy: -238.73924299 Hartree\n",
      "Results saved in folder: LiH_Full/AlH_75\n"
     ]
    },
    {
     "data": {
      "text/markdown": [
       "### Processing bond distance: 0.8 Å"
      ],
      "text/plain": [
       "<IPython.core.display.Markdown object>"
      ]
     },
     "metadata": {},
     "output_type": "display_data"
    },
    {
     "name": "stdout",
     "output_type": "stream",
     "text": [
      "converged SCF energy = -238.876690869254\n",
      "CASCI E = -238.890732778961  E(CI) = -3.63720122388239  S^2 = 0.0000000\n",
      "Bond distance: 0.80 Å, HF Energy: -238.87669087 Hartree, CASCI Energy: -238.89073278 Hartree\n",
      "Results saved in folder: LiH_Full/AlH_80\n"
     ]
    },
    {
     "data": {
      "text/markdown": [
       "### Processing bond distance: 0.85 Å"
      ],
      "text/plain": [
       "<IPython.core.display.Markdown object>"
      ]
     },
     "metadata": {},
     "output_type": "display_data"
    },
    {
     "name": "stdout",
     "output_type": "stream",
     "text": [
      "converged SCF energy = -239.001984470101\n",
      "CASCI E = -239.015948567072  E(CI) = -3.64748941010927  S^2 = 0.0000000\n",
      "Bond distance: 0.85 Å, HF Energy: -239.00198447 Hartree, CASCI Energy: -239.01594857 Hartree\n",
      "Results saved in folder: LiH_Full/AlH_85\n"
     ]
    },
    {
     "data": {
      "text/markdown": [
       "### Processing bond distance: 0.9 Å"
      ],
      "text/plain": [
       "<IPython.core.display.Markdown object>"
      ]
     },
     "metadata": {},
     "output_type": "display_data"
    },
    {
     "name": "stdout",
     "output_type": "stream",
     "text": [
      "converged SCF energy = -239.104951440853\n",
      "CASCI E = -239.118860962704  E(CI) = -3.64704649689438  S^2 = 0.0000000\n",
      "Bond distance: 0.90 Å, HF Energy: -239.10495144 Hartree, CASCI Energy: -239.11886096 Hartree\n",
      "Results saved in folder: LiH_Full/AlH_90\n"
     ]
    },
    {
     "data": {
      "text/markdown": [
       "### Processing bond distance: 0.95 Å"
      ],
      "text/plain": [
       "<IPython.core.display.Markdown object>"
      ]
     },
     "metadata": {},
     "output_type": "display_data"
    },
    {
     "name": "stdout",
     "output_type": "stream",
     "text": [
      "converged SCF energy = -239.189251395929\n",
      "CASCI E = -239.203118871735  E(CI) = -3.63789828011991  S^2 = 0.0000000\n",
      "Bond distance: 0.95 Å, HF Energy: -239.18925140 Hartree, CASCI Energy: -239.20311887 Hartree\n",
      "Results saved in folder: LiH_Full/AlH_95\n"
     ]
    },
    {
     "data": {
      "text/markdown": [
       "### Processing bond distance: 1.0 Å"
      ],
      "text/plain": [
       "<IPython.core.display.Markdown object>"
      ]
     },
     "metadata": {},
     "output_type": "display_data"
    },
    {
     "name": "stdout",
     "output_type": "stream",
     "text": [
      "converged SCF energy = -239.258059898731\n",
      "CASCI E = -239.271892909786  E(CI) = -3.62197526868229  S^2 = 0.0000000\n",
      "Bond distance: 1.00 Å, HF Energy: -239.25805990 Hartree, CASCI Energy: -239.27189291 Hartree\n",
      "Results saved in folder: LiH_Full/AlH_100\n"
     ]
    },
    {
     "data": {
      "text/markdown": [
       "### Processing bond distance: 1.05 Å"
      ],
      "text/plain": [
       "<IPython.core.display.Markdown object>"
      ]
     },
     "metadata": {},
     "output_type": "display_data"
    },
    {
     "name": "stdout",
     "output_type": "stream",
     "text": [
      "converged SCF energy = -239.314036958031\n",
      "CASCI E = -239.327841086210  E(CI) = -3.60090775073775  S^2 = 0.0000000\n",
      "Bond distance: 1.05 Å, HF Energy: -239.31403696 Hartree, CASCI Energy: -239.32784109 Hartree\n",
      "Results saved in folder: LiH_Full/AlH_105\n"
     ]
    },
    {
     "data": {
      "text/markdown": [
       "### Processing bond distance: 1.1 Å"
      ],
      "text/plain": [
       "<IPython.core.display.Markdown object>"
      ]
     },
     "metadata": {},
     "output_type": "display_data"
    },
    {
     "name": "stdout",
     "output_type": "stream",
     "text": [
      "converged SCF energy = -239.35936754465\n",
      "CASCI E = -239.373147713702  E(CI) = -3.57599421355161  S^2 = 0.0000000\n",
      "Bond distance: 1.10 Å, HF Energy: -239.35936754 Hartree, CASCI Energy: -239.37314771 Hartree\n",
      "Results saved in folder: LiH_Full/AlH_110\n"
     ]
    },
    {
     "data": {
      "text/markdown": [
       "### Processing bond distance: 1.15 Å"
      ],
      "text/plain": [
       "<IPython.core.display.Markdown object>"
      ]
     },
     "metadata": {},
     "output_type": "display_data"
    },
    {
     "name": "stdout",
     "output_type": "stream",
     "text": [
      "converged SCF energy = -239.395831869969\n",
      "CASCI E = -239.409592858544  E(CI) = -3.54824136107626  S^2 = 0.0000000\n",
      "Bond distance: 1.15 Å, HF Energy: -239.39583187 Hartree, CASCI Energy: -239.40959286 Hartree\n",
      "Results saved in folder: LiH_Full/AlH_114\n"
     ]
    },
    {
     "data": {
      "text/markdown": [
       "### Processing bond distance: 1.2 Å"
      ],
      "text/plain": [
       "<IPython.core.display.Markdown object>"
      ]
     },
     "metadata": {},
     "output_type": "display_data"
    },
    {
     "name": "stdout",
     "output_type": "stream",
     "text": [
      "converged SCF energy = -239.42488037196\n",
      "CASCI E = -239.438626943389  E(CI) = -3.51842294305513  S^2 = 0.0000000\n",
      "Bond distance: 1.20 Å, HF Energy: -239.42488037 Hartree, CASCI Energy: -239.43862694 Hartree\n",
      "Results saved in folder: LiH_Full/AlH_120\n"
     ]
    },
    {
     "data": {
      "text/markdown": [
       "### Processing bond distance: 1.25 Å"
      ],
      "text/plain": [
       "<IPython.core.display.Markdown object>"
      ]
     },
     "metadata": {},
     "output_type": "display_data"
    },
    {
     "name": "stdout",
     "output_type": "stream",
     "text": [
      "converged SCF energy = -239.447700972755\n",
      "CASCI E = -239.461437845103  E(CI) = -3.48713475962563  S^2 = 0.0000000\n",
      "Bond distance: 1.25 Å, HF Energy: -239.44770097 Hartree, CASCI Energy: -239.46143785 Hartree\n",
      "Results saved in folder: LiH_Full/AlH_125\n"
     ]
    },
    {
     "data": {
      "text/markdown": [
       "### Processing bond distance: 1.3 Å"
      ],
      "text/plain": [
       "<IPython.core.display.Markdown object>"
      ]
     },
     "metadata": {},
     "output_type": "display_data"
    },
    {
     "name": "stdout",
     "output_type": "stream",
     "text": [
      "converged SCF energy = -239.465274014\n",
      "CASCI E = -239.479005759609  E(CI) = -3.45483869277393  S^2 = 0.0000000\n",
      "Bond distance: 1.30 Å, HF Energy: -239.46527401 Hartree, CASCI Energy: -239.47900576 Hartree\n",
      "Results saved in folder: LiH_Full/AlH_130\n"
     ]
    },
    {
     "data": {
      "text/markdown": [
       "### Processing bond distance: 1.35 Å"
      ],
      "text/plain": [
       "<IPython.core.display.Markdown object>"
      ]
     },
     "metadata": {},
     "output_type": "display_data"
    },
    {
     "name": "stdout",
     "output_type": "stream",
     "text": [
      "converged SCF energy = -239.478414767965\n",
      "CASCI E = -239.492145741839  E(CI) = -3.42189581956458  S^2 = 0.0000000\n",
      "Bond distance: 1.35 Å, HF Energy: -239.47841477 Hartree, CASCI Energy: -239.49214574 Hartree\n",
      "Results saved in folder: LiH_Full/AlH_135\n"
     ]
    },
    {
     "data": {
      "text/markdown": [
       "### Processing bond distance: 1.4 Å"
      ],
      "text/plain": [
       "<IPython.core.display.Markdown object>"
      ]
     },
     "metadata": {},
     "output_type": "display_data"
    },
    {
     "name": "stdout",
     "output_type": "stream",
     "text": [
      "converged SCF energy = -239.487805567477\n",
      "CASCI E = -239.501539796354  E(CI) = -3.38858990265356  S^2 = 0.0000000\n",
      "Bond distance: 1.40 Å, HF Energy: -239.48780557 Hartree, CASCI Energy: -239.50153980 Hartree\n",
      "Results saved in folder: LiH_Full/AlH_140\n"
     ]
    },
    {
     "data": {
      "text/markdown": [
       "### Processing bond distance: 1.45 Å"
      ],
      "text/plain": [
       "<IPython.core.display.Markdown object>"
      ]
     },
     "metadata": {},
     "output_type": "display_data"
    },
    {
     "name": "stdout",
     "output_type": "stream",
     "text": [
      "converged SCF energy = -239.494020178458\n",
      "CASCI E = -239.507761288803  E(CI) = -3.35514474549424  S^2 = 0.0000000\n",
      "Bond distance: 1.45 Å, HF Energy: -239.49402018 Hartree, CASCI Energy: -239.50776129 Hartree\n",
      "Results saved in folder: LiH_Full/AlH_145\n"
     ]
    },
    {
     "data": {
      "text/markdown": [
       "### Processing bond distance: 1.5 Å"
      ],
      "text/plain": [
       "<IPython.core.display.Markdown object>"
      ]
     },
     "metadata": {},
     "output_type": "display_data"
    },
    {
     "name": "stdout",
     "output_type": "stream",
     "text": [
      "converged SCF energy = -239.497542743716\n",
      "CASCI E = -239.511293901732  E(CI) = -3.32173696413432  S^2 = 0.0000000\n",
      "Bond distance: 1.50 Å, HF Energy: -239.49754274 Hartree, CASCI Energy: -239.51129390 Hartree\n",
      "Results saved in folder: LiH_Full/AlH_150\n"
     ]
    },
    {
     "data": {
      "text/markdown": [
       "### Processing bond distance: 1.55 Å"
      ],
      "text/plain": [
       "<IPython.core.display.Markdown object>"
      ]
     },
     "metadata": {},
     "output_type": "display_data"
    },
    {
     "name": "stdout",
     "output_type": "stream",
     "text": [
      "converged SCF energy = -239.4987829974\n",
      "CASCI E = -239.512546868815  E(CI) = -3.28850586128951  S^2 = 0.0000000\n",
      "Bond distance: 1.55 Å, HF Energy: -239.49878300 Hartree, CASCI Energy: -239.51254687 Hartree\n",
      "Results saved in folder: LiH_Full/AlH_155\n"
     ]
    },
    {
     "data": {
      "text/markdown": [
       "### Processing bond distance: 1.6 Å"
      ],
      "text/plain": [
       "<IPython.core.display.Markdown object>"
      ]
     },
     "metadata": {},
     "output_type": "display_data"
    },
    {
     "name": "stdout",
     "output_type": "stream",
     "text": [
      "converged SCF energy = -239.49808882773\n",
      "CASCI E = -239.511867558206  E(CI) = -3.25556129612463  S^2 = 0.0000000\n",
      "Bond distance: 1.60 Å, HF Energy: -239.49808883 Hartree, CASCI Energy: -239.51186756 Hartree\n",
      "Results saved in folder: LiH_Full/AlH_160\n"
     ]
    },
    {
     "data": {
      "text/markdown": [
       "### Processing bond distance: 1.65 Å"
      ],
      "text/plain": [
       "<IPython.core.display.Markdown object>"
      ]
     },
     "metadata": {},
     "output_type": "display_data"
    },
    {
     "name": "stdout",
     "output_type": "stream",
     "text": [
      "converged SCF energy = -239.495756804439\n",
      "CASCI E = -239.509552020102  E(CI) = -3.22299006962379  S^2 = 0.0000000\n",
      "Bond distance: 1.65 Å, HF Energy: -239.49575680 Hartree, CASCI Energy: -239.50955202 Hartree\n",
      "Results saved in folder: LiH_Full/AlH_165\n"
     ]
    },
    {
     "data": {
      "text/markdown": [
       "### Processing bond distance: 1.7 Å"
      ],
      "text/plain": [
       "<IPython.core.display.Markdown object>"
      ]
     },
     "metadata": {},
     "output_type": "display_data"
    },
    {
     "name": "stdout",
     "output_type": "stream",
     "text": [
      "converged SCF energy = -239.492041010666\n",
      "CASCI E = -239.505853837018  E(CI) = -3.19086110803897  S^2 = 0.0000000\n",
      "Bond distance: 1.70 Å, HF Energy: -239.49204101 Hartree, CASCI Energy: -239.50585384 Hartree\n",
      "Results saved in folder: LiH_Full/AlH_170\n"
     ]
    },
    {
     "data": {
      "text/markdown": [
       "### Processing bond distance: 1.75 Å"
      ],
      "text/plain": [
       "<IPython.core.display.Markdown object>"
      ]
     },
     "metadata": {},
     "output_type": "display_data"
    },
    {
     "name": "stdout",
     "output_type": "stream",
     "text": [
      "converged SCF energy = -239.487160386732\n",
      "CASCI E = -239.500991483188  E(CI) = -3.15922961130113  S^2 = 0.0000000\n",
      "Bond distance: 1.75 Å, HF Energy: -239.48716039 Hartree, CASCI Energy: -239.50099148 Hartree\n",
      "Results saved in folder: LiH_Full/AlH_175\n"
     ]
    },
    {
     "data": {
      "text/markdown": [
       "### Processing bond distance: 1.8 Å"
      ],
      "text/plain": [
       "<IPython.core.display.Markdown object>"
      ]
     },
     "metadata": {},
     "output_type": "display_data"
    },
    {
     "name": "stdout",
     "output_type": "stream",
     "text": [
      "converged SCF energy = -239.481304749073\n",
      "CASCI E = -239.495154355701  E(CI) = -3.12814029155214  S^2 = 0.0000000\n",
      "Bond distance: 1.80 Å, HF Energy: -239.48130475 Hartree, CASCI Energy: -239.49515436 Hartree\n",
      "Results saved in folder: LiH_Full/AlH_180\n"
     ]
    },
    {
     "data": {
      "text/markdown": [
       "### Processing bond distance: 1.85 Å"
      ],
      "text/plain": [
       "<IPython.core.display.Markdown object>"
      ]
     },
     "metadata": {},
     "output_type": "display_data"
    },
    {
     "name": "stdout",
     "output_type": "stream",
     "text": [
      "converged SCF energy = -239.474639644644\n",
      "CASCI E = -239.488507637357  E(CI) = -3.09762982093542  S^2 = 0.0000000\n",
      "Bond distance: 1.85 Å, HF Energy: -239.47463964 Hartree, CASCI Energy: -239.48850764 Hartree\n",
      "Results saved in folder: LiH_Full/AlH_185\n"
     ]
    },
    {
     "data": {
      "text/markdown": [
       "### Processing bond distance: 1.9 Å"
      ],
      "text/plain": [
       "<IPython.core.display.Markdown object>"
      ]
     },
     "metadata": {},
     "output_type": "display_data"
    },
    {
     "name": "stdout",
     "output_type": "stream",
     "text": [
      "converged SCF energy = -239.467310208748\n",
      "CASCI E = -239.481196159214  E(CI) = -3.06772861279029  S^2 = 0.0000000\n",
      "Bond distance: 1.90 Å, HF Energy: -239.46731021 Hartree, CASCI Energy: -239.48119616 Hartree\n",
      "Results saved in folder: LiH_Full/AlH_190\n"
     ]
    },
    {
     "data": {
      "text/markdown": [
       "### Processing bond distance: 1.95 Å"
      ],
      "text/plain": [
       "<IPython.core.display.Markdown object>"
      ]
     },
     "metadata": {},
     "output_type": "display_data"
    },
    {
     "name": "stdout",
     "output_type": "stream",
     "text": [
      "converged SCF energy = -239.459444197297\n",
      "CASCI E = -239.473347434130  E(CI) = -3.03846206352441  S^2 = 0.0000000\n",
      "Bond distance: 1.95 Å, HF Energy: -239.45944420 Hartree, CASCI Energy: -239.47334743 Hartree\n",
      "Results saved in folder: LiH_Full/AlH_195\n"
     ]
    },
    {
     "data": {
      "text/markdown": [
       "### Processing bond distance: 2.0 Å"
      ],
      "text/plain": [
       "<IPython.core.display.Markdown object>"
      ]
     },
     "metadata": {},
     "output_type": "display_data"
    },
    {
     "name": "stdout",
     "output_type": "stream",
     "text": [
      "converged SCF energy = -239.451154358119\n",
      "CASCI E = -239.465074026405  E(CI) = -3.00985137881918  S^2 = 0.0000000\n",
      "Bond distance: 2.00 Å, HF Energy: -239.45115436 Hartree, CASCI Energy: -239.46507403 Hartree\n",
      "Results saved in folder: LiH_Full/AlH_200\n"
     ]
    },
    {
     "data": {
      "text/markdown": [
       "### Processing bond distance: 2.05 Å"
      ],
      "text/plain": [
       "<IPython.core.display.Markdown object>"
      ]
     },
     "metadata": {},
     "output_type": "display_data"
    },
    {
     "name": "stdout",
     "output_type": "stream",
     "text": [
      "converged SCF energy = -239.442540290716\n",
      "CASCI E = -239.456475407549  E(CI) = -2.98191409726911  S^2 = 0.0000000\n",
      "Bond distance: 2.05 Å, HF Energy: -239.44254029 Hartree, CASCI Energy: -239.45647541 Hartree\n",
      "Results saved in folder: LiH_Full/AlH_204\n"
     ]
    },
    {
     "data": {
      "text/markdown": [
       "### Processing bond distance: 2.1 Å"
      ],
      "text/plain": [
       "<IPython.core.display.Markdown object>"
      ]
     },
     "metadata": {},
     "output_type": "display_data"
    },
    {
     "name": "stdout",
     "output_type": "stream",
     "text": [
      "converged SCF energy = -239.433689923024\n",
      "CASCI E = -239.447639427387  E(CI) = -2.95466440899702  S^2 = 0.0000000\n",
      "Bond distance: 2.10 Å, HF Energy: -239.43368992 Hartree, CASCI Energy: -239.44763943 Hartree\n",
      "Results saved in folder: LiH_Full/AlH_210\n"
     ]
    },
    {
     "data": {
      "text/markdown": [
       "### Processing bond distance: 2.15 Å"
      ],
      "text/plain": [
       "<IPython.core.display.Markdown object>"
      ]
     },
     "metadata": {},
     "output_type": "display_data"
    },
    {
     "name": "stdout",
     "output_type": "stream",
     "text": [
      "converged SCF energy = -239.424680710432\n",
      "CASCI E = -239.438643506402  E(CI) = -2.92811334865220  S^2 = 0.0000000\n",
      "Bond distance: 2.15 Å, HF Energy: -239.42468071 Hartree, CASCI Energy: -239.43864351 Hartree\n",
      "Results saved in folder: LiH_Full/AlH_215\n"
     ]
    },
    {
     "data": {
      "text/markdown": [
       "### Processing bond distance: 2.2 Å"
      ],
      "text/plain": [
       "<IPython.core.display.Markdown object>"
      ]
     },
     "metadata": {},
     "output_type": "display_data"
    },
    {
     "name": "stdout",
     "output_type": "stream",
     "text": [
      "converged SCF energy = -239.415580639333\n",
      "CASCI E = -239.429555632127  E(CI) = -2.90226892369174  S^2 = 0.0000000\n",
      "Bond distance: 2.20 Å, HF Energy: -239.41558064 Hartree, CASCI Energy: -239.42955563 Hartree\n",
      "Results saved in folder: LiH_Full/AlH_220\n"
     ]
    },
    {
     "data": {
      "text/markdown": [
       "### Processing bond distance: 2.25 Å"
      ],
      "text/plain": [
       "<IPython.core.display.Markdown object>"
      ]
     },
     "metadata": {},
     "output_type": "display_data"
    },
    {
     "name": "stdout",
     "output_type": "stream",
     "text": [
      "converged SCF energy = -239.406449096492\n",
      "CASCI E = -239.420435221356  E(CI) = -2.87713622153839  S^2 = 0.0000000\n",
      "Bond distance: 2.25 Å, HF Energy: -239.40644910 Hartree, CASCI Energy: -239.42043522 Hartree\n",
      "Results saved in folder: LiH_Full/AlH_225\n"
     ]
    },
    {
     "data": {
      "text/markdown": [
       "### Processing bond distance: 2.3 Å"
      ],
      "text/plain": [
       "<IPython.core.display.Markdown object>"
      ]
     },
     "metadata": {},
     "output_type": "display_data"
    },
    {
     "name": "stdout",
     "output_type": "stream",
     "text": [
      "converged SCF energy = -239.397337647559\n",
      "CASCI E = -239.411333891823  E(CI) = -2.85271752410151  S^2 = 0.0000000\n",
      "Bond distance: 2.30 Å, HF Energy: -239.39733765 Hartree, CASCI Energy: -239.41133389 Hartree\n",
      "Results saved in folder: LiH_Full/AlH_229\n"
     ]
    },
    {
     "data": {
      "text/markdown": [
       "### Processing bond distance: 2.35 Å"
      ],
      "text/plain": [
       "<IPython.core.display.Markdown object>"
      ]
     },
     "metadata": {},
     "output_type": "display_data"
    },
    {
     "name": "stdout",
     "output_type": "stream",
     "text": [
      "converged SCF energy = -239.38829075341\n",
      "CASCI E = -239.402296172301  E(CI) = -2.82901244567913  S^2 = 0.0000000\n",
      "Bond distance: 2.35 Å, HF Energy: -239.38829075 Hartree, CASCI Energy: -239.40229617 Hartree\n",
      "Results saved in folder: LiH_Full/AlH_235\n"
     ]
    },
    {
     "data": {
      "text/markdown": [
       "### Processing bond distance: 2.35 Å"
      ],
      "text/plain": [
       "<IPython.core.display.Markdown object>"
      ]
     },
     "metadata": {},
     "output_type": "display_data"
    },
    {
     "name": "stdout",
     "output_type": "stream",
     "text": [
      "converged SCF energy = -239.38829075341\n",
      "CASCI E = -239.402296172301  E(CI) = -2.82901244567913  S^2 = 0.0000000\n",
      "Bond distance: 2.35 Å, HF Energy: -239.38829075 Hartree, CASCI Energy: -239.40229617 Hartree\n",
      "Results saved in folder: LiH_Full/AlH_235\n"
     ]
    },
    {
     "data": {
      "text/markdown": [
       "### Processing bond distance: 2.4 Å"
      ],
      "text/plain": [
       "<IPython.core.display.Markdown object>"
      ]
     },
     "metadata": {},
     "output_type": "display_data"
    },
    {
     "name": "stdout",
     "output_type": "stream",
     "text": [
      "converged SCF energy = -239.37934644165\n",
      "CASCI E = -239.393360168563  E(CI) = -2.80601810054665  S^2 = 0.0000000\n",
      "Bond distance: 2.40 Å, HF Energy: -239.37934644 Hartree, CASCI Energy: -239.39336017 Hartree\n",
      "Results saved in folder: LiH_Full/AlH_240\n"
     ]
    },
    {
     "data": {
      "text/markdown": [
       "### Processing bond distance: 2.45 Å"
      ],
      "text/plain": [
       "<IPython.core.display.Markdown object>"
      ]
     },
     "metadata": {},
     "output_type": "display_data"
    },
    {
     "name": "stdout",
     "output_type": "stream",
     "text": [
      "converged SCF energy = -239.370536942206\n",
      "CASCI E = -239.384558191980  E(CI) = -2.78372919849883  S^2 = 0.0000000\n",
      "Bond distance: 2.45 Å, HF Energy: -239.37053694 Hartree, CASCI Energy: -239.38455819 Hartree\n",
      "Results saved in folder: LiH_Full/AlH_245\n"
     ]
    },
    {
     "data": {
      "text/markdown": [
       "### Processing bond distance: 2.5 Å"
      ],
      "text/plain": [
       "<IPython.core.display.Markdown object>"
      ]
     },
     "metadata": {},
     "output_type": "display_data"
    },
    {
     "name": "stdout",
     "output_type": "stream",
     "text": [
      "converged SCF energy = -239.361889290157\n",
      "CASCI E = -239.375917366490  E(CI) = -2.76213863547542  S^2 = 0.0000000\n",
      "Bond distance: 2.50 Å, HF Energy: -239.36188929 Hartree, CASCI Energy: -239.37591737 Hartree\n",
      "Results saved in folder: LiH_Full/AlH_250\n"
     ]
    },
    {
     "data": {
      "text/markdown": [
       "### Processing bond distance: 2.55 Å"
      ],
      "text/plain": [
       "<IPython.core.display.Markdown object>"
      ]
     },
     "metadata": {},
     "output_type": "display_data"
    },
    {
     "name": "stdout",
     "output_type": "stream",
     "text": [
      "converged SCF energy = -239.353425895266\n",
      "CASCI E = -239.367460183911  E(CI) = -2.74123722204553  S^2 = 0.0000000\n",
      "Bond distance: 2.55 Å, HF Energy: -239.35342590 Hartree, CASCI Energy: -239.36746018 Hartree\n",
      "Results saved in folder: LiH_Full/AlH_254\n"
     ]
    },
    {
     "data": {
      "text/markdown": [
       "### Processing bond distance: 2.6 Å"
      ],
      "text/plain": [
       "<IPython.core.display.Markdown object>"
      ]
     },
     "metadata": {},
     "output_type": "display_data"
    },
    {
     "name": "stdout",
     "output_type": "stream",
     "text": [
      "converged SCF energy = -239.345165075733\n",
      "CASCI E = -239.359205042024  E(CI) = -2.72101424075746  S^2 = 0.0000000\n",
      "Bond distance: 2.60 Å, HF Energy: -239.34516508 Hartree, CASCI Energy: -239.35920504 Hartree\n",
      "Results saved in folder: LiH_Full/AlH_260\n"
     ]
    },
    {
     "data": {
      "text/markdown": [
       "### Processing bond distance: 2.65 Å"
      ],
      "text/plain": [
       "<IPython.core.display.Markdown object>"
      ]
     },
     "metadata": {},
     "output_type": "display_data"
    },
    {
     "name": "stdout",
     "output_type": "stream",
     "text": [
      "converged SCF energy = -239.337121553034\n",
      "CASCI E = -239.351166736009  E(CI) = -2.70145761489056  S^2 = 0.0000000\n",
      "Bond distance: 2.65 Å, HF Energy: -239.33712155 Hartree, CASCI Energy: -239.35116674 Hartree\n",
      "Results saved in folder: LiH_Full/AlH_265\n"
     ]
    },
    {
     "data": {
      "text/markdown": [
       "### Processing bond distance: 2.7 Å"
      ],
      "text/plain": [
       "<IPython.core.display.Markdown object>"
      ]
     },
     "metadata": {},
     "output_type": "display_data"
    },
    {
     "name": "stdout",
     "output_type": "stream",
     "text": [
      "converged SCF energy = -239.329306904961\n",
      "CASCI E = -239.343356910235  E(CI) = -2.68255414006208  S^2 = 0.0000000\n",
      "Bond distance: 2.70 Å, HF Energy: -239.32930690 Hartree, CASCI Energy: -239.34335691 Hartree\n",
      "Results saved in folder: LiH_Full/AlH_270\n"
     ]
    },
    {
     "data": {
      "text/markdown": [
       "### Processing bond distance: 2.75 Å"
      ],
      "text/plain": [
       "<IPython.core.display.Markdown object>"
      ]
     },
     "metadata": {},
     "output_type": "display_data"
    },
    {
     "name": "stdout",
     "output_type": "stream",
     "text": [
      "converged SCF energy = -239.321729974914\n",
      "CASCI E = -239.335784466778  E(CI) = -2.66428969928185  S^2 = 0.0000000\n",
      "Bond distance: 2.75 Å, HF Energy: -239.32172997 Hartree, CASCI Energy: -239.33578447 Hartree\n",
      "Results saved in folder: LiH_Full/AlH_275\n"
     ]
    },
    {
     "data": {
      "text/markdown": [
       "### Processing bond distance: 2.8 Å"
      ],
      "text/plain": [
       "<IPython.core.display.Markdown object>"
      ]
     },
     "metadata": {},
     "output_type": "display_data"
    },
    {
     "name": "stdout",
     "output_type": "stream",
     "text": [
      "converged SCF energy = -239.314397236651\n",
      "CASCI E = -239.328455929817  E(CI) = -2.64664945682128  S^2 = 0.0000000\n",
      "Bond distance: 2.80 Å, HF Energy: -239.31439724 Hartree, CASCI Energy: -239.32845593 Hartree\n",
      "Results saved in folder: LiH_Full/AlH_280\n"
     ]
    },
    {
     "data": {
      "text/markdown": [
       "### Processing bond distance: 2.85 Å"
      ],
      "text/plain": [
       "<IPython.core.display.Markdown object>"
      ]
     },
     "metadata": {},
     "output_type": "display_data"
    },
    {
     "name": "stdout",
     "output_type": "stream",
     "text": [
      "converged SCF energy = -239.307313115088\n",
      "CASCI E = -239.321375766410  E(CI) = -2.62961802814371  S^2 = 0.0000000\n",
      "Bond distance: 2.85 Å, HF Energy: -239.30731312 Hartree, CASCI Energy: -239.32137577 Hartree\n",
      "Results saved in folder: LiH_Full/AlH_285\n"
     ]
    },
    {
     "data": {
      "text/markdown": [
       "### Processing bond distance: 2.9 Å"
      ],
      "text/plain": [
       "<IPython.core.display.Markdown object>"
      ]
     },
     "metadata": {},
     "output_type": "display_data"
    },
    {
     "name": "stdout",
     "output_type": "stream",
     "text": [
      "converged SCF energy = -239.300480264991\n",
      "CASCI E = -239.314546665447  E(CI) = -2.61317962502139  S^2 = 0.0000000\n",
      "Bond distance: 2.90 Å, HF Energy: -239.30048026 Hartree, CASCI Energy: -239.31454667 Hartree\n",
      "Results saved in folder: LiH_Full/AlH_290\n"
     ]
    },
    {
     "data": {
      "text/markdown": [
       "### Processing bond distance: 2.95 Å"
      ],
      "text/plain": [
       "<IPython.core.display.Markdown object>"
      ]
     },
     "metadata": {},
     "output_type": "display_data"
    },
    {
     "name": "stdout",
     "output_type": "stream",
     "text": [
      "converged SCF energy = -239.293899810491\n",
      "CASCI E = -239.307969777645  E(CI) = -2.59731817647818  S^2 = 0.0000000\n",
      "Bond distance: 2.95 Å, HF Energy: -239.29389981 Hartree, CASCI Energy: -239.30796978 Hartree\n",
      "Results saved in folder: LiH_Full/AlH_295\n"
     ]
    },
    {
     "data": {
      "text/markdown": [
       "### Processing bond distance: 3.0 Å"
      ],
      "text/plain": [
       "<IPython.core.display.Markdown object>"
      ]
     },
     "metadata": {},
     "output_type": "display_data"
    },
    {
     "name": "stdout",
     "output_type": "stream",
     "text": [
      "converged SCF energy = -239.287571549211\n",
      "CASCI E = -239.301644920313  E(CI) = -2.58201742682351  S^2 = 0.0000000\n",
      "Bond distance: 3.00 Å, HF Energy: -239.28757155 Hartree, CASCI Energy: -239.30164492 Hartree\n",
      "Results saved in folder: LiH_Full/AlH_300\n"
     ]
    }
   ],
   "source": [
    "import os\n",
    "from pyscf import gto, scf, mcscf\n",
    "from openfermionpyscf import generate_molecular_hamiltonian\n",
    "from openfermion.transforms import jordan_wigner, bravyi_kitaev_tree\n",
    "from openfermion.transforms import get_fermion_operator\n",
    "from IPython.display import display, Markdown\n",
    "from openfermion.ops import FermionOperator, QubitOperator\n",
    "\n",
    "\n",
    "# Function to create a directory and save results\n",
    "def save_results(bond_distance, output_dir, fermion_hamiltonian, jw_transform, bk_transform):\n",
    "    # Create a folder for the bond distance\n",
    "    folder_name = os.path.join(output_dir, f\"AlH_{int(bond_distance * 100)}\")\n",
    "    os.makedirs(folder_name, exist_ok=True)\n",
    "\n",
    "    # Save fermionic Hamiltonian\n",
    "    with open(os.path.join(folder_name, \"fermionic_hamiltonian.txt\"), \"w\") as f:\n",
    "        f.write(str(fermion_hamiltonian))\n",
    "\n",
    "    # Save Jordan-Wigner transformation\n",
    "    with open(os.path.join(folder_name, \"jordan_wigner.txt\"), \"w\") as f:\n",
    "        f.write(str(jw_transform))\n",
    "\n",
    "    # Save Bravyi-Kitaev transformation\n",
    "    with open(os.path.join(folder_name, \"bravyi_kitaev.txt\"), \"w\") as f:\n",
    "        f.write(str(bk_transform))\n",
    "\n",
    "    print(f\"Results saved in folder: {folder_name}\")\n",
    "\n",
    "\n",
    "# Function to manually compute the Hermitian conjugate of a QubitOperator\n",
    "def hermitian_conjugate(qubit_operator):\n",
    "    conjugate_operator = QubitOperator()\n",
    "    for term, coefficient in qubit_operator.terms.items():\n",
    "        # Conjugate the coefficient (complex conjugate) and add the reversed term\n",
    "        conjugated_coefficient = coefficient.conjugate()\n",
    "        conjugate_operator += QubitOperator(term, conjugated_coefficient)\n",
    "    return conjugate_operator\n",
    "\n",
    "# Function to enforce Hermiticity by symmetrizing the Hamiltonian\n",
    "def make_hermitian(qubit_operator):\n",
    "    # The Hermitian operator is (H + H†) / 2\n",
    "    hermitian_hamiltonian = (qubit_operator + hermitian_conjugate(qubit_operator)) / 2\n",
    "    return hermitian_hamiltonian\n",
    "\n",
    "\n",
    "# Function to perform calculations for a given bond distance\n",
    "def calculate_and_save(bond_distance, output_dir, active_electrons, active_orbitals):\n",
    "    display(Markdown(f\"### Processing bond distance: {bond_distance} Å\"))\n",
    "\n",
    "    # Define molecule geometry\n",
    "    geometry = [('Al', (0, 0, 0)), ('H', (0, 0, bond_distance))]\n",
    "    basis = 'sto-3g'\n",
    "    charge = 0\n",
    "    multiplicity = 1\n",
    "    spin = multiplicity - 1\n",
    "\n",
    "    # Setup molecule and perform SCF calculation\n",
    "    mol = gto.M(atom=geometry, basis=basis, charge=charge, spin=spin, unit='angstrom')\n",
    "    mf = scf.RHF(mol).run()\n",
    "\n",
    "    # Perform CASCI calculation to define active space\n",
    "    mc = mcscf.CASCI(mf, active_orbitals, active_electrons)\n",
    "    mc.kernel()\n",
    "\n",
    "    print(f\"Bond distance: {bond_distance:.2f} Å, HF Energy: {mf.e_tot:.8f} Hartree, CASCI Energy: {mc.e_tot:.8f} Hartree\")\n",
    "\n",
    "    # Generate molecular Hamiltonian in full space\n",
    "    molecular_hamiltonian = generate_molecular_hamiltonian(\n",
    "        geometry=geometry,\n",
    "        basis=basis,\n",
    "        multiplicity=multiplicity,\n",
    "        charge=charge,\n",
    "        n_active_electrons=active_electrons,\n",
    "        n_active_orbitals=active_orbitals\n",
    "\n",
    "    )\n",
    "    fermion_hamiltonian = get_fermion_operator(molecular_hamiltonian)\n",
    "\n",
    "\n",
    "    # Apply the Jordan-Wigner transformation\n",
    "    jw_hamiltonian = jordan_wigner(fermion_hamiltonian)\n",
    "\n",
    "    # Ensure the Jordan-Wigner Hamiltonian is Hermitian\n",
    "    jw_hamiltonian = make_hermitian(jw_hamiltonian)\n",
    "\n",
    "    # Apply the Bravyi-Kitaev transformation\n",
    "    bk_hamiltonian = bravyi_kitaev_tree(fermion_hamiltonian)\n",
    "\n",
    "    # Ensure the Bravyi-Kitaev Hamiltonian is Hermitian\n",
    "    bk_hamiltonian = make_hermitian(bk_hamiltonian)\n",
    "\n",
    "    # Save results\n",
    "    save_results(bond_distance, output_dir, fermion_hamiltonian, jw_hamiltonian, bk_hamiltonian)\n",
    "\n",
    "\n",
    "# Main script\n",
    "output_dir = \"LiH_Full\"\n",
    "bond_distances = [0.50, 0.55, 0.60, 0.65, 0.70, 0.75, 0.80, 0.85, 0.90, 0.95, 1.0, 1.05, 1.10, 1.15, 1.20, 1.25, 1.30, 1.35, 1.40, 1.45, 1.50, 1.55, 1.60, 1.65, 1.70, 1.75, 1.80, 1.85, 1.90, 1.95, 2.00, 2.05, 2.10, 2.15, 2.20, 2.25, 2.30, 2.35, 2.35, 2.40, 2.45, 2.50, 2.55, 2.60, 2.65, 2.70, 2.75, 2.80, 2.85, 2.90, 2.95, 3.00]  # Specify bond distances in Å\n",
    "active_electrons = 4  # Specify the number of active electrons\n",
    "active_orbitals = 3   # Specify the number of active orbitals\n",
    "\n",
    "for bond_distance in bond_distances:\n",
    "    calculate_and_save(bond_distance, output_dir, active_electrons, active_orbitals)\n"
   ]
  },
  {
   "cell_type": "code",
   "execution_count": 1,
   "id": "af747481-ed62-4cab-b8a2-665f020da90a",
   "metadata": {},
   "outputs": [
    {
     "name": "stdout",
     "output_type": "stream",
     "text": [
      "Step 1: Define the LiH molecule geometry and basis set\n",
      "Processing step  0"
     ]
    },
    {
     "name": "stderr",
     "output_type": "stream",
     "text": [
      "/tmp/ipykernel_1885599/3315098766.py:34: DeprecationWarning: The class ``qiskit.primitives.estimator.Estimator`` is deprecated as of qiskit 1.2. It will be removed no earlier than 3 months after the release date. All implementations of the `BaseEstimatorV1` interface have been deprecated in favor of their V2 counterparts. The V2 alternative for the `Estimator` class is `StatevectorEstimator`.\n",
      "  estimator = Estimator()\n"
     ]
    },
    {
     "name": "stdout",
     "output_type": "stream",
     "text": [
      " 1"
     ]
    },
    {
     "ename": "KeyboardInterrupt",
     "evalue": "",
     "output_type": "error",
     "traceback": [
      "\u001b[0;31m---------------------------------------------------------------------------\u001b[0m",
      "\u001b[0;31mKeyboardInterrupt\u001b[0m                         Traceback (most recent call last)",
      "Cell \u001b[0;32mIn[1], line 78\u001b[0m\n\u001b[1;32m     76\u001b[0m vqe \u001b[38;5;241m=\u001b[39m VQE(estimator\u001b[38;5;241m=\u001b[39mestimator, ansatz\u001b[38;5;241m=\u001b[39mansatz, optimizer\u001b[38;5;241m=\u001b[39moptimizer)\n\u001b[1;32m     77\u001b[0m algo \u001b[38;5;241m=\u001b[39m GroundStateEigensolver(mapper, vqe)\n\u001b[0;32m---> 78\u001b[0m result \u001b[38;5;241m=\u001b[39m \u001b[43malgo\u001b[49m\u001b[38;5;241;43m.\u001b[39;49m\u001b[43msolve\u001b[49m\u001b[43m(\u001b[49m\u001b[43mmolecule\u001b[49m\u001b[43m)\u001b[49m\n\u001b[1;32m     80\u001b[0m \u001b[38;5;66;03m# Store energies\u001b[39;00m\n\u001b[1;32m     81\u001b[0m energies\u001b[38;5;241m.\u001b[39mappend(result\u001b[38;5;241m.\u001b[39mtotal_energies[\u001b[38;5;241m0\u001b[39m])\n",
      "File \u001b[0;32m~/miniconda3/envs/py311/lib/python3.11/site-packages/qiskit_nature/second_q/algorithms/ground_state_solvers/ground_state_eigensolver.py:73\u001b[0m, in \u001b[0;36mGroundStateEigensolver.solve\u001b[0;34m(self, problem, aux_operators)\u001b[0m\n\u001b[1;32m     62\u001b[0m \u001b[38;5;250m\u001b[39m\u001b[38;5;124;03m\"\"\"Compute Ground State properties.\u001b[39;00m\n\u001b[1;32m     63\u001b[0m \n\u001b[1;32m     64\u001b[0m \u001b[38;5;124;03mArgs:\u001b[39;00m\n\u001b[0;32m   (...)\u001b[0m\n\u001b[1;32m     70\u001b[0m \u001b[38;5;124;03m    :meth:`~.BaseProblem.interpret`.\u001b[39;00m\n\u001b[1;32m     71\u001b[0m \u001b[38;5;124;03m\"\"\"\u001b[39;00m\n\u001b[1;32m     72\u001b[0m main_operator, aux_ops \u001b[38;5;241m=\u001b[39m \u001b[38;5;28mself\u001b[39m\u001b[38;5;241m.\u001b[39mget_qubit_operators(problem, aux_operators)\n\u001b[0;32m---> 73\u001b[0m raw_mes_result \u001b[38;5;241m=\u001b[39m \u001b[38;5;28;43mself\u001b[39;49m\u001b[38;5;241;43m.\u001b[39;49m\u001b[43msolver\u001b[49m\u001b[38;5;241;43m.\u001b[39;49m\u001b[43mcompute_minimum_eigenvalue\u001b[49m\u001b[43m(\u001b[49m\u001b[43mmain_operator\u001b[49m\u001b[43m,\u001b[49m\u001b[43m \u001b[49m\u001b[43maux_ops\u001b[49m\u001b[43m)\u001b[49m\n\u001b[1;32m     75\u001b[0m eigenstate_result \u001b[38;5;241m=\u001b[39m EigenstateResult\u001b[38;5;241m.\u001b[39mfrom_result(raw_mes_result)\n\u001b[1;32m     76\u001b[0m result \u001b[38;5;241m=\u001b[39m problem\u001b[38;5;241m.\u001b[39minterpret(eigenstate_result)\n",
      "File \u001b[0;32m~/miniconda3/envs/py311/lib/python3.11/site-packages/qiskit_algorithms/minimum_eigensolvers/vqe.py:194\u001b[0m, in \u001b[0;36mVQE.compute_minimum_eigenvalue\u001b[0;34m(self, operator, aux_operators)\u001b[0m\n\u001b[1;32m    189\u001b[0m \u001b[38;5;28;01melse\u001b[39;00m:\n\u001b[1;32m    190\u001b[0m     \u001b[38;5;66;03m# we always want to submit as many estimations per job as possible for minimal\u001b[39;00m\n\u001b[1;32m    191\u001b[0m     \u001b[38;5;66;03m# overhead on the hardware\u001b[39;00m\n\u001b[1;32m    192\u001b[0m     was_updated \u001b[38;5;241m=\u001b[39m _set_default_batchsize(\u001b[38;5;28mself\u001b[39m\u001b[38;5;241m.\u001b[39moptimizer)\n\u001b[0;32m--> 194\u001b[0m     optimizer_result \u001b[38;5;241m=\u001b[39m \u001b[38;5;28;43mself\u001b[39;49m\u001b[38;5;241;43m.\u001b[39;49m\u001b[43moptimizer\u001b[49m\u001b[38;5;241;43m.\u001b[39;49m\u001b[43mminimize\u001b[49m\u001b[43m(\u001b[49m\n\u001b[1;32m    195\u001b[0m \u001b[43m        \u001b[49m\u001b[43mfun\u001b[49m\u001b[38;5;241;43m=\u001b[39;49m\u001b[43mevaluate_energy\u001b[49m\u001b[43m,\u001b[49m\u001b[43m  \u001b[49m\u001b[38;5;66;43;03m# type: ignore[arg-type]\u001b[39;49;00m\n\u001b[1;32m    196\u001b[0m \u001b[43m        \u001b[49m\u001b[43mx0\u001b[49m\u001b[38;5;241;43m=\u001b[39;49m\u001b[43minitial_point\u001b[49m\u001b[43m,\u001b[49m\n\u001b[1;32m    197\u001b[0m \u001b[43m        \u001b[49m\u001b[43mjac\u001b[49m\u001b[38;5;241;43m=\u001b[39;49m\u001b[43mevaluate_gradient\u001b[49m\u001b[43m,\u001b[49m\u001b[43m  \u001b[49m\u001b[38;5;66;43;03m# type: ignore[arg-type]\u001b[39;49;00m\n\u001b[1;32m    198\u001b[0m \u001b[43m        \u001b[49m\u001b[43mbounds\u001b[49m\u001b[38;5;241;43m=\u001b[39;49m\u001b[43mbounds\u001b[49m\u001b[43m,\u001b[49m\n\u001b[1;32m    199\u001b[0m \u001b[43m    \u001b[49m\u001b[43m)\u001b[49m\n\u001b[1;32m    201\u001b[0m     \u001b[38;5;66;03m# reset to original value\u001b[39;00m\n\u001b[1;32m    202\u001b[0m     \u001b[38;5;28;01mif\u001b[39;00m was_updated:\n",
      "File \u001b[0;32m~/miniconda3/envs/py311/lib/python3.11/site-packages/qiskit_algorithms/optimizers/scipy_optimizer.py:148\u001b[0m, in \u001b[0;36mSciPyOptimizer.minimize\u001b[0;34m(self, fun, x0, jac, bounds)\u001b[0m\n\u001b[1;32m    145\u001b[0m     swapped_deprecated_args \u001b[38;5;241m=\u001b[39m \u001b[38;5;28;01mTrue\u001b[39;00m\n\u001b[1;32m    146\u001b[0m     \u001b[38;5;28mself\u001b[39m\u001b[38;5;241m.\u001b[39m_options[\u001b[38;5;124m\"\u001b[39m\u001b[38;5;124mmaxfun\u001b[39m\u001b[38;5;124m\"\u001b[39m] \u001b[38;5;241m=\u001b[39m \u001b[38;5;28mself\u001b[39m\u001b[38;5;241m.\u001b[39m_options\u001b[38;5;241m.\u001b[39mpop(\u001b[38;5;124m\"\u001b[39m\u001b[38;5;124mmaxiter\u001b[39m\u001b[38;5;124m\"\u001b[39m)\n\u001b[0;32m--> 148\u001b[0m raw_result \u001b[38;5;241m=\u001b[39m \u001b[43mminimize\u001b[49m\u001b[43m(\u001b[49m\n\u001b[1;32m    149\u001b[0m \u001b[43m    \u001b[49m\u001b[43mfun\u001b[49m\u001b[38;5;241;43m=\u001b[39;49m\u001b[43mfun\u001b[49m\u001b[43m,\u001b[49m\n\u001b[1;32m    150\u001b[0m \u001b[43m    \u001b[49m\u001b[43mx0\u001b[49m\u001b[38;5;241;43m=\u001b[39;49m\u001b[43mx0\u001b[49m\u001b[43m,\u001b[49m\n\u001b[1;32m    151\u001b[0m \u001b[43m    \u001b[49m\u001b[43mmethod\u001b[49m\u001b[38;5;241;43m=\u001b[39;49m\u001b[38;5;28;43mself\u001b[39;49m\u001b[38;5;241;43m.\u001b[39;49m\u001b[43m_method\u001b[49m\u001b[43m,\u001b[49m\n\u001b[1;32m    152\u001b[0m \u001b[43m    \u001b[49m\u001b[43mjac\u001b[49m\u001b[38;5;241;43m=\u001b[39;49m\u001b[43mjac\u001b[49m\u001b[43m,\u001b[49m\n\u001b[1;32m    153\u001b[0m \u001b[43m    \u001b[49m\u001b[43mbounds\u001b[49m\u001b[38;5;241;43m=\u001b[39;49m\u001b[43mbounds\u001b[49m\u001b[43m,\u001b[49m\n\u001b[1;32m    154\u001b[0m \u001b[43m    \u001b[49m\u001b[43moptions\u001b[49m\u001b[38;5;241;43m=\u001b[39;49m\u001b[38;5;28;43mself\u001b[39;49m\u001b[38;5;241;43m.\u001b[39;49m\u001b[43m_options\u001b[49m\u001b[43m,\u001b[49m\n\u001b[1;32m    155\u001b[0m \u001b[43m    \u001b[49m\u001b[38;5;241;43m*\u001b[39;49m\u001b[38;5;241;43m*\u001b[39;49m\u001b[38;5;28;43mself\u001b[39;49m\u001b[38;5;241;43m.\u001b[39;49m\u001b[43m_kwargs\u001b[49m\u001b[43m,\u001b[49m\n\u001b[1;32m    156\u001b[0m \u001b[43m\u001b[49m\u001b[43m)\u001b[49m\n\u001b[1;32m    157\u001b[0m \u001b[38;5;28;01mif\u001b[39;00m swapped_deprecated_args:\n\u001b[1;32m    158\u001b[0m     \u001b[38;5;28mself\u001b[39m\u001b[38;5;241m.\u001b[39m_options[\u001b[38;5;124m\"\u001b[39m\u001b[38;5;124mmaxiter\u001b[39m\u001b[38;5;124m\"\u001b[39m] \u001b[38;5;241m=\u001b[39m \u001b[38;5;28mself\u001b[39m\u001b[38;5;241m.\u001b[39m_options\u001b[38;5;241m.\u001b[39mpop(\u001b[38;5;124m\"\u001b[39m\u001b[38;5;124mmaxfun\u001b[39m\u001b[38;5;124m\"\u001b[39m)\n",
      "File \u001b[0;32m~/miniconda3/envs/py311/lib/python3.11/site-packages/scipy/optimize/_minimize.py:743\u001b[0m, in \u001b[0;36mminimize\u001b[0;34m(fun, x0, args, method, jac, hess, hessp, bounds, constraints, tol, callback, options)\u001b[0m\n\u001b[1;32m    740\u001b[0m     res \u001b[38;5;241m=\u001b[39m _minimize_cobyqa(fun, x0, args, bounds, constraints, callback,\n\u001b[1;32m    741\u001b[0m                            \u001b[38;5;241m*\u001b[39m\u001b[38;5;241m*\u001b[39moptions)\n\u001b[1;32m    742\u001b[0m \u001b[38;5;28;01melif\u001b[39;00m meth \u001b[38;5;241m==\u001b[39m \u001b[38;5;124m'\u001b[39m\u001b[38;5;124mslsqp\u001b[39m\u001b[38;5;124m'\u001b[39m:\n\u001b[0;32m--> 743\u001b[0m     res \u001b[38;5;241m=\u001b[39m \u001b[43m_minimize_slsqp\u001b[49m\u001b[43m(\u001b[49m\u001b[43mfun\u001b[49m\u001b[43m,\u001b[49m\u001b[43m \u001b[49m\u001b[43mx0\u001b[49m\u001b[43m,\u001b[49m\u001b[43m \u001b[49m\u001b[43margs\u001b[49m\u001b[43m,\u001b[49m\u001b[43m \u001b[49m\u001b[43mjac\u001b[49m\u001b[43m,\u001b[49m\u001b[43m \u001b[49m\u001b[43mbounds\u001b[49m\u001b[43m,\u001b[49m\n\u001b[1;32m    744\u001b[0m \u001b[43m                          \u001b[49m\u001b[43mconstraints\u001b[49m\u001b[43m,\u001b[49m\u001b[43m \u001b[49m\u001b[43mcallback\u001b[49m\u001b[38;5;241;43m=\u001b[39;49m\u001b[43mcallback\u001b[49m\u001b[43m,\u001b[49m\u001b[43m \u001b[49m\u001b[38;5;241;43m*\u001b[39;49m\u001b[38;5;241;43m*\u001b[39;49m\u001b[43moptions\u001b[49m\u001b[43m)\u001b[49m\n\u001b[1;32m    745\u001b[0m \u001b[38;5;28;01melif\u001b[39;00m meth \u001b[38;5;241m==\u001b[39m \u001b[38;5;124m'\u001b[39m\u001b[38;5;124mtrust-constr\u001b[39m\u001b[38;5;124m'\u001b[39m:\n\u001b[1;32m    746\u001b[0m     res \u001b[38;5;241m=\u001b[39m _minimize_trustregion_constr(fun, x0, args, jac, hess, hessp,\n\u001b[1;32m    747\u001b[0m                                        bounds, constraints,\n\u001b[1;32m    748\u001b[0m                                        callback\u001b[38;5;241m=\u001b[39mcallback, \u001b[38;5;241m*\u001b[39m\u001b[38;5;241m*\u001b[39moptions)\n",
      "File \u001b[0;32m~/miniconda3/envs/py311/lib/python3.11/site-packages/scipy/optimize/_slsqp_py.py:438\u001b[0m, in \u001b[0;36m_minimize_slsqp\u001b[0;34m(func, x0, args, jac, bounds, constraints, maxiter, ftol, iprint, disp, eps, callback, finite_diff_rel_step, **unknown_options)\u001b[0m\n\u001b[1;32m    435\u001b[0m     c \u001b[38;5;241m=\u001b[39m _eval_constraint(x, cons)\n\u001b[1;32m    437\u001b[0m \u001b[38;5;28;01mif\u001b[39;00m mode \u001b[38;5;241m==\u001b[39m \u001b[38;5;241m-\u001b[39m\u001b[38;5;241m1\u001b[39m:  \u001b[38;5;66;03m# gradient evaluation required\u001b[39;00m\n\u001b[0;32m--> 438\u001b[0m     g \u001b[38;5;241m=\u001b[39m append(\u001b[43mwrapped_grad\u001b[49m\u001b[43m(\u001b[49m\u001b[43mx\u001b[49m\u001b[43m)\u001b[49m, \u001b[38;5;241m0.0\u001b[39m)\n\u001b[1;32m    439\u001b[0m     a \u001b[38;5;241m=\u001b[39m _eval_con_normals(x, cons, la, n, m, meq, mieq)\n\u001b[1;32m    441\u001b[0m \u001b[38;5;28;01mif\u001b[39;00m majiter \u001b[38;5;241m>\u001b[39m majiter_prev:\n\u001b[1;32m    442\u001b[0m     \u001b[38;5;66;03m# call callback if major iteration has incremented\u001b[39;00m\n",
      "File \u001b[0;32m~/miniconda3/envs/py311/lib/python3.11/site-packages/scipy/optimize/_optimize.py:302\u001b[0m, in \u001b[0;36m_clip_x_for_func.<locals>.eval\u001b[0;34m(x)\u001b[0m\n\u001b[1;32m    300\u001b[0m \u001b[38;5;28;01mdef\u001b[39;00m \u001b[38;5;21meval\u001b[39m(x):\n\u001b[1;32m    301\u001b[0m     x \u001b[38;5;241m=\u001b[39m _check_clip_x(x, bounds)\n\u001b[0;32m--> 302\u001b[0m     \u001b[38;5;28;01mreturn\u001b[39;00m \u001b[43mfunc\u001b[49m\u001b[43m(\u001b[49m\u001b[43mx\u001b[49m\u001b[43m)\u001b[49m\n",
      "File \u001b[0;32m~/miniconda3/envs/py311/lib/python3.11/site-packages/scipy/optimize/_differentiable_functions.py:331\u001b[0m, in \u001b[0;36mScalarFunction.grad\u001b[0;34m(self, x)\u001b[0m\n\u001b[1;32m    329\u001b[0m \u001b[38;5;28;01mif\u001b[39;00m \u001b[38;5;129;01mnot\u001b[39;00m np\u001b[38;5;241m.\u001b[39marray_equal(x, \u001b[38;5;28mself\u001b[39m\u001b[38;5;241m.\u001b[39mx):\n\u001b[1;32m    330\u001b[0m     \u001b[38;5;28mself\u001b[39m\u001b[38;5;241m.\u001b[39m_update_x(x)\n\u001b[0;32m--> 331\u001b[0m \u001b[38;5;28;43mself\u001b[39;49m\u001b[38;5;241;43m.\u001b[39;49m\u001b[43m_update_grad\u001b[49m\u001b[43m(\u001b[49m\u001b[43m)\u001b[49m\n\u001b[1;32m    332\u001b[0m \u001b[38;5;28;01mreturn\u001b[39;00m \u001b[38;5;28mself\u001b[39m\u001b[38;5;241m.\u001b[39mg\n",
      "File \u001b[0;32m~/miniconda3/envs/py311/lib/python3.11/site-packages/scipy/optimize/_differentiable_functions.py:306\u001b[0m, in \u001b[0;36mScalarFunction._update_grad\u001b[0;34m(self)\u001b[0m\n\u001b[1;32m    304\u001b[0m \u001b[38;5;28;01mif\u001b[39;00m \u001b[38;5;28mself\u001b[39m\u001b[38;5;241m.\u001b[39m_orig_grad \u001b[38;5;129;01min\u001b[39;00m FD_METHODS:\n\u001b[1;32m    305\u001b[0m     \u001b[38;5;28mself\u001b[39m\u001b[38;5;241m.\u001b[39m_update_fun()\n\u001b[0;32m--> 306\u001b[0m \u001b[38;5;28mself\u001b[39m\u001b[38;5;241m.\u001b[39mg \u001b[38;5;241m=\u001b[39m \u001b[38;5;28;43mself\u001b[39;49m\u001b[38;5;241;43m.\u001b[39;49m\u001b[43m_wrapped_grad\u001b[49m\u001b[43m(\u001b[49m\u001b[38;5;28;43mself\u001b[39;49m\u001b[38;5;241;43m.\u001b[39;49m\u001b[43mx\u001b[49m\u001b[43m,\u001b[49m\u001b[43m \u001b[49m\u001b[43mf0\u001b[49m\u001b[38;5;241;43m=\u001b[39;49m\u001b[38;5;28;43mself\u001b[39;49m\u001b[38;5;241;43m.\u001b[39;49m\u001b[43mf\u001b[49m\u001b[43m)\u001b[49m\n\u001b[1;32m    307\u001b[0m \u001b[38;5;28mself\u001b[39m\u001b[38;5;241m.\u001b[39mg_updated \u001b[38;5;241m=\u001b[39m \u001b[38;5;28;01mTrue\u001b[39;00m\n",
      "File \u001b[0;32m~/miniconda3/envs/py311/lib/python3.11/site-packages/scipy/optimize/_differentiable_functions.py:47\u001b[0m, in \u001b[0;36m_wrapper_grad.<locals>.wrapped1\u001b[0;34m(x, f0)\u001b[0m\n\u001b[1;32m     45\u001b[0m \u001b[38;5;28;01mdef\u001b[39;00m \u001b[38;5;21mwrapped1\u001b[39m(x, f0\u001b[38;5;241m=\u001b[39m\u001b[38;5;28;01mNone\u001b[39;00m):\n\u001b[1;32m     46\u001b[0m     ncalls[\u001b[38;5;241m0\u001b[39m] \u001b[38;5;241m+\u001b[39m\u001b[38;5;241m=\u001b[39m \u001b[38;5;241m1\u001b[39m\n\u001b[0;32m---> 47\u001b[0m     \u001b[38;5;28;01mreturn\u001b[39;00m \u001b[43mapprox_derivative\u001b[49m\u001b[43m(\u001b[49m\n\u001b[1;32m     48\u001b[0m \u001b[43m        \u001b[49m\u001b[43mfun\u001b[49m\u001b[43m,\u001b[49m\u001b[43m \u001b[49m\u001b[43mx\u001b[49m\u001b[43m,\u001b[49m\u001b[43m \u001b[49m\u001b[43mf0\u001b[49m\u001b[38;5;241;43m=\u001b[39;49m\u001b[43mf0\u001b[49m\u001b[43m,\u001b[49m\u001b[43m \u001b[49m\u001b[38;5;241;43m*\u001b[39;49m\u001b[38;5;241;43m*\u001b[39;49m\u001b[43mfinite_diff_options\u001b[49m\n\u001b[1;32m     49\u001b[0m \u001b[43m    \u001b[49m\u001b[43m)\u001b[49m\n",
      "File \u001b[0;32m~/miniconda3/envs/py311/lib/python3.11/site-packages/scipy/optimize/_numdiff.py:519\u001b[0m, in \u001b[0;36mapprox_derivative\u001b[0;34m(fun, x0, method, rel_step, abs_step, f0, bounds, sparsity, as_linear_operator, args, kwargs)\u001b[0m\n\u001b[1;32m    516\u001b[0m     use_one_sided \u001b[38;5;241m=\u001b[39m \u001b[38;5;28;01mFalse\u001b[39;00m\n\u001b[1;32m    518\u001b[0m \u001b[38;5;28;01mif\u001b[39;00m sparsity \u001b[38;5;129;01mis\u001b[39;00m \u001b[38;5;28;01mNone\u001b[39;00m:\n\u001b[0;32m--> 519\u001b[0m     \u001b[38;5;28;01mreturn\u001b[39;00m \u001b[43m_dense_difference\u001b[49m\u001b[43m(\u001b[49m\u001b[43mfun_wrapped\u001b[49m\u001b[43m,\u001b[49m\u001b[43m \u001b[49m\u001b[43mx0\u001b[49m\u001b[43m,\u001b[49m\u001b[43m \u001b[49m\u001b[43mf0\u001b[49m\u001b[43m,\u001b[49m\u001b[43m \u001b[49m\u001b[43mh\u001b[49m\u001b[43m,\u001b[49m\n\u001b[1;32m    520\u001b[0m \u001b[43m                             \u001b[49m\u001b[43muse_one_sided\u001b[49m\u001b[43m,\u001b[49m\u001b[43m \u001b[49m\u001b[43mmethod\u001b[49m\u001b[43m)\u001b[49m\n\u001b[1;32m    521\u001b[0m \u001b[38;5;28;01melse\u001b[39;00m:\n\u001b[1;32m    522\u001b[0m     \u001b[38;5;28;01mif\u001b[39;00m \u001b[38;5;129;01mnot\u001b[39;00m issparse(sparsity) \u001b[38;5;129;01mand\u001b[39;00m \u001b[38;5;28mlen\u001b[39m(sparsity) \u001b[38;5;241m==\u001b[39m \u001b[38;5;241m2\u001b[39m:\n",
      "File \u001b[0;32m~/miniconda3/envs/py311/lib/python3.11/site-packages/scipy/optimize/_numdiff.py:592\u001b[0m, in \u001b[0;36m_dense_difference\u001b[0;34m(fun, x0, f0, h, use_one_sided, method)\u001b[0m\n\u001b[1;32m    590\u001b[0m     x1[i] \u001b[38;5;241m+\u001b[39m\u001b[38;5;241m=\u001b[39m h[i]\n\u001b[1;32m    591\u001b[0m     dx \u001b[38;5;241m=\u001b[39m x1[i] \u001b[38;5;241m-\u001b[39m x0[i]  \u001b[38;5;66;03m# Recompute dx as exactly representable number.\u001b[39;00m\n\u001b[0;32m--> 592\u001b[0m     df \u001b[38;5;241m=\u001b[39m \u001b[43mfun\u001b[49m\u001b[43m(\u001b[49m\u001b[43mx1\u001b[49m\u001b[43m)\u001b[49m \u001b[38;5;241m-\u001b[39m f0\n\u001b[1;32m    593\u001b[0m \u001b[38;5;28;01melif\u001b[39;00m method \u001b[38;5;241m==\u001b[39m \u001b[38;5;124m'\u001b[39m\u001b[38;5;124m3-point\u001b[39m\u001b[38;5;124m'\u001b[39m \u001b[38;5;129;01mand\u001b[39;00m use_one_sided[i]:\n\u001b[1;32m    594\u001b[0m     x1[i] \u001b[38;5;241m+\u001b[39m\u001b[38;5;241m=\u001b[39m h[i]\n",
      "File \u001b[0;32m~/miniconda3/envs/py311/lib/python3.11/site-packages/scipy/optimize/_numdiff.py:470\u001b[0m, in \u001b[0;36mapprox_derivative.<locals>.fun_wrapped\u001b[0;34m(x)\u001b[0m\n\u001b[1;32m    467\u001b[0m \u001b[38;5;28;01mif\u001b[39;00m xp\u001b[38;5;241m.\u001b[39misdtype(x\u001b[38;5;241m.\u001b[39mdtype, \u001b[38;5;124m\"\u001b[39m\u001b[38;5;124mreal floating\u001b[39m\u001b[38;5;124m\"\u001b[39m):\n\u001b[1;32m    468\u001b[0m     x \u001b[38;5;241m=\u001b[39m xp\u001b[38;5;241m.\u001b[39mastype(x, x0\u001b[38;5;241m.\u001b[39mdtype)\n\u001b[0;32m--> 470\u001b[0m f \u001b[38;5;241m=\u001b[39m np\u001b[38;5;241m.\u001b[39matleast_1d(\u001b[43mfun\u001b[49m\u001b[43m(\u001b[49m\u001b[43mx\u001b[49m\u001b[43m,\u001b[49m\u001b[43m \u001b[49m\u001b[38;5;241;43m*\u001b[39;49m\u001b[43margs\u001b[49m\u001b[43m,\u001b[49m\u001b[43m \u001b[49m\u001b[38;5;241;43m*\u001b[39;49m\u001b[38;5;241;43m*\u001b[39;49m\u001b[43mkwargs\u001b[49m\u001b[43m)\u001b[49m)\n\u001b[1;32m    471\u001b[0m \u001b[38;5;28;01mif\u001b[39;00m f\u001b[38;5;241m.\u001b[39mndim \u001b[38;5;241m>\u001b[39m \u001b[38;5;241m1\u001b[39m:\n\u001b[1;32m    472\u001b[0m     \u001b[38;5;28;01mraise\u001b[39;00m \u001b[38;5;167;01mRuntimeError\u001b[39;00m(\u001b[38;5;124m\"\u001b[39m\u001b[38;5;124m`fun` return value has \u001b[39m\u001b[38;5;124m\"\u001b[39m\n\u001b[1;32m    473\u001b[0m                        \u001b[38;5;124m\"\u001b[39m\u001b[38;5;124mmore than 1 dimension.\u001b[39m\u001b[38;5;124m\"\u001b[39m)\n",
      "File \u001b[0;32m~/miniconda3/envs/py311/lib/python3.11/site-packages/scipy/optimize/_differentiable_functions.py:20\u001b[0m, in \u001b[0;36m_wrapper_fun.<locals>.wrapped\u001b[0;34m(x)\u001b[0m\n\u001b[1;32m     16\u001b[0m ncalls[\u001b[38;5;241m0\u001b[39m] \u001b[38;5;241m+\u001b[39m\u001b[38;5;241m=\u001b[39m \u001b[38;5;241m1\u001b[39m\n\u001b[1;32m     17\u001b[0m \u001b[38;5;66;03m# Send a copy because the user may overwrite it.\u001b[39;00m\n\u001b[1;32m     18\u001b[0m \u001b[38;5;66;03m# Overwriting results in undefined behaviour because\u001b[39;00m\n\u001b[1;32m     19\u001b[0m \u001b[38;5;66;03m# fun(self.x) will change self.x, with the two no longer linked.\u001b[39;00m\n\u001b[0;32m---> 20\u001b[0m fx \u001b[38;5;241m=\u001b[39m \u001b[43mfun\u001b[49m\u001b[43m(\u001b[49m\u001b[43mnp\u001b[49m\u001b[38;5;241;43m.\u001b[39;49m\u001b[43mcopy\u001b[49m\u001b[43m(\u001b[49m\u001b[43mx\u001b[49m\u001b[43m)\u001b[49m\u001b[43m,\u001b[49m\u001b[43m \u001b[49m\u001b[38;5;241;43m*\u001b[39;49m\u001b[43margs\u001b[49m\u001b[43m)\u001b[49m\n\u001b[1;32m     21\u001b[0m \u001b[38;5;66;03m# Make sure the function returns a true scalar\u001b[39;00m\n\u001b[1;32m     22\u001b[0m \u001b[38;5;28;01mif\u001b[39;00m \u001b[38;5;129;01mnot\u001b[39;00m np\u001b[38;5;241m.\u001b[39misscalar(fx):\n",
      "File \u001b[0;32m~/miniconda3/envs/py311/lib/python3.11/site-packages/qiskit_algorithms/minimum_eigensolvers/vqe.py:266\u001b[0m, in \u001b[0;36mVQE._get_evaluate_energy.<locals>.evaluate_energy\u001b[0;34m(parameters)\u001b[0m\n\u001b[1;32m    264\u001b[0m \u001b[38;5;28;01mtry\u001b[39;00m:\n\u001b[1;32m    265\u001b[0m     job \u001b[38;5;241m=\u001b[39m \u001b[38;5;28mself\u001b[39m\u001b[38;5;241m.\u001b[39mestimator\u001b[38;5;241m.\u001b[39mrun(batch_size \u001b[38;5;241m*\u001b[39m [ansatz], batch_size \u001b[38;5;241m*\u001b[39m [operator], parameters)\n\u001b[0;32m--> 266\u001b[0m     estimator_result \u001b[38;5;241m=\u001b[39m \u001b[43mjob\u001b[49m\u001b[38;5;241;43m.\u001b[39;49m\u001b[43mresult\u001b[49m\u001b[43m(\u001b[49m\u001b[43m)\u001b[49m\n\u001b[1;32m    267\u001b[0m \u001b[38;5;28;01mexcept\u001b[39;00m \u001b[38;5;167;01mException\u001b[39;00m \u001b[38;5;28;01mas\u001b[39;00m exc:\n\u001b[1;32m    268\u001b[0m     \u001b[38;5;28;01mraise\u001b[39;00m AlgorithmError(\u001b[38;5;124m\"\u001b[39m\u001b[38;5;124mThe primitive job to evaluate the energy failed!\u001b[39m\u001b[38;5;124m\"\u001b[39m) \u001b[38;5;28;01mfrom\u001b[39;00m \u001b[38;5;21;01mexc\u001b[39;00m\n",
      "File \u001b[0;32m~/miniconda3/envs/py311/lib/python3.11/site-packages/qiskit/primitives/primitive_job.py:51\u001b[0m, in \u001b[0;36mPrimitiveJob.result\u001b[0;34m(self)\u001b[0m\n\u001b[1;32m     49\u001b[0m \u001b[38;5;28;01mdef\u001b[39;00m \u001b[38;5;21mresult\u001b[39m(\u001b[38;5;28mself\u001b[39m) \u001b[38;5;241m-\u001b[39m\u001b[38;5;241m>\u001b[39m ResultT:\n\u001b[1;32m     50\u001b[0m     \u001b[38;5;28mself\u001b[39m\u001b[38;5;241m.\u001b[39m_check_submitted()\n\u001b[0;32m---> 51\u001b[0m     \u001b[38;5;28;01mreturn\u001b[39;00m \u001b[38;5;28;43mself\u001b[39;49m\u001b[38;5;241;43m.\u001b[39;49m\u001b[43m_future\u001b[49m\u001b[38;5;241;43m.\u001b[39;49m\u001b[43mresult\u001b[49m\u001b[43m(\u001b[49m\u001b[43m)\u001b[49m\n",
      "File \u001b[0;32m~/miniconda3/envs/py311/lib/python3.11/concurrent/futures/_base.py:451\u001b[0m, in \u001b[0;36mFuture.result\u001b[0;34m(self, timeout)\u001b[0m\n\u001b[1;32m    448\u001b[0m \u001b[38;5;28;01melif\u001b[39;00m \u001b[38;5;28mself\u001b[39m\u001b[38;5;241m.\u001b[39m_state \u001b[38;5;241m==\u001b[39m FINISHED:\n\u001b[1;32m    449\u001b[0m     \u001b[38;5;28;01mreturn\u001b[39;00m \u001b[38;5;28mself\u001b[39m\u001b[38;5;241m.\u001b[39m__get_result()\n\u001b[0;32m--> 451\u001b[0m \u001b[38;5;28;43mself\u001b[39;49m\u001b[38;5;241;43m.\u001b[39;49m\u001b[43m_condition\u001b[49m\u001b[38;5;241;43m.\u001b[39;49m\u001b[43mwait\u001b[49m\u001b[43m(\u001b[49m\u001b[43mtimeout\u001b[49m\u001b[43m)\u001b[49m\n\u001b[1;32m    453\u001b[0m \u001b[38;5;28;01mif\u001b[39;00m \u001b[38;5;28mself\u001b[39m\u001b[38;5;241m.\u001b[39m_state \u001b[38;5;129;01min\u001b[39;00m [CANCELLED, CANCELLED_AND_NOTIFIED]:\n\u001b[1;32m    454\u001b[0m     \u001b[38;5;28;01mraise\u001b[39;00m CancelledError()\n",
      "File \u001b[0;32m~/miniconda3/envs/py311/lib/python3.11/threading.py:327\u001b[0m, in \u001b[0;36mCondition.wait\u001b[0;34m(self, timeout)\u001b[0m\n\u001b[1;32m    325\u001b[0m \u001b[38;5;28;01mtry\u001b[39;00m:    \u001b[38;5;66;03m# restore state no matter what (e.g., KeyboardInterrupt)\u001b[39;00m\n\u001b[1;32m    326\u001b[0m     \u001b[38;5;28;01mif\u001b[39;00m timeout \u001b[38;5;129;01mis\u001b[39;00m \u001b[38;5;28;01mNone\u001b[39;00m:\n\u001b[0;32m--> 327\u001b[0m         \u001b[43mwaiter\u001b[49m\u001b[38;5;241;43m.\u001b[39;49m\u001b[43macquire\u001b[49m\u001b[43m(\u001b[49m\u001b[43m)\u001b[49m\n\u001b[1;32m    328\u001b[0m         gotit \u001b[38;5;241m=\u001b[39m \u001b[38;5;28;01mTrue\u001b[39;00m\n\u001b[1;32m    329\u001b[0m     \u001b[38;5;28;01melse\u001b[39;00m:\n",
      "\u001b[0;31mKeyboardInterrupt\u001b[0m: "
     ]
    }
   ],
   "source": [
    "import numpy as np\n",
    "import matplotlib.pyplot as plt\n",
    "from qiskit_nature.second_q.drivers import PySCFDriver\n",
    "from qiskit_nature.second_q.transformers import FreezeCoreTransformer\n",
    "from qiskit_nature.second_q.mappers import ParityMapper\n",
    "from qiskit_nature.second_q.circuit.library import HartreeFock, UCCSD\n",
    "from qiskit_nature.second_q.algorithms import GroundStateEigensolver\n",
    "from qiskit_algorithms.optimizers import SLSQP\n",
    "from qiskit.primitives import Estimator\n",
    "from qiskit_algorithms.minimum_eigensolvers import AdaptVQE, VQE\n",
    "\n",
    "\n",
    "# Display step function\n",
    "def display_step(message):\n",
    "    print(message)\n",
    "\n",
    "display_step(\"Step 1: Define the LiH molecule geometry and basis set\")\n",
    "basis = 'sto-3g'  # Minimal basis set\n",
    "multiplicity = 1  # Singlet state (closed shell)\n",
    "charge = 0  # Neutral molecule\n",
    "\n",
    "# Define distances for the geometry\n",
    "distances = [x * 0.05 for x in range(6, 60)]  # Distances from 0.3 Å to 3.0 Å\n",
    "\n",
    "energies = []\n",
    "hf_energies = []\n",
    "\n",
    "# Output files\n",
    "output_log_file = \"results_log.txt\"\n",
    "output_data_file = \"bond_distance_vs_energy.txt\"\n",
    "output_plot_file = \"energy_profile.png\"\n",
    "\n",
    "# Estimator instance for VQE\n",
    "estimator = Estimator()\n",
    "\n",
    "# Open the log file\n",
    "with open(output_log_file, \"w\") as log_file:\n",
    "    log_file.write(\"Bond Distance (Å)    VQE Energy (Hartree)    HF Energy (Hartree)\\n\")\n",
    "\n",
    "print(f'Processing step __', end='')\n",
    "for i, d in enumerate(distances):\n",
    "    print('\\b\\b{:2d}'.format(i), end='', flush=True)\n",
    "    try:\n",
    "        # Update geometry with current distance\n",
    "        geometry = [('Li', (0, 0, 0)), ('H', (0, 0, d))]\n",
    "        driver = PySCFDriver(\n",
    "            atom='; '.join([f'{atom[0]} {atom[1][0]} {atom[1][1]} {atom[1][2]}' for atom in geometry]),\n",
    "            basis=basis,\n",
    "            charge=charge,\n",
    "            spin=multiplicity - 1\n",
    "        )\n",
    "        molecule = driver.run()\n",
    "\n",
    "        # Freeze core orbitals if applicable\n",
    "        transformer = FreezeCoreTransformer()\n",
    "        molecule = transformer.transform(molecule)\n",
    "\n",
    "        # Generate the Hamiltonian\n",
    "        hamiltonian = molecule.hamiltonian.second_q_op()\n",
    "\n",
    "        # Use ParityMapper\n",
    "        mapper = ParityMapper()\n",
    "\n",
    "        # Set up the ansatz and VQE\n",
    "        optimizer = SLSQP(maxiter=10000, ftol=1e-9)\n",
    "        ansatz = UCCSD(\n",
    "            molecule.num_spatial_orbitals,\n",
    "            molecule.num_particles,\n",
    "            mapper,\n",
    "            initial_state=HartreeFock(\n",
    "                molecule.num_spatial_orbitals,\n",
    "                molecule.num_particles,\n",
    "                mapper,\n",
    "            ),\n",
    "        )\n",
    "        vqe = VQE(estimator=estimator, ansatz=ansatz, optimizer=optimizer)\n",
    "        algo = GroundStateEigensolver(mapper, vqe)\n",
    "        result = algo.solve(molecule)\n",
    "\n",
    "        # Store energies\n",
    "        energies.append(result.total_energies[0])\n",
    "        hf_energies.append(result.hartree_fock_energy)\n",
    "\n",
    "        # Write results to the log file\n",
    "        with open(output_log_file, \"a\") as log_file:\n",
    "            log_file.write(f\"{d:.2f}                 {result.total_energies[0]:.8f}             {result.hartree_fock_energy:.8f}\\n\")\n",
    "\n",
    "    except Exception as e:\n",
    "        print(f\"Error at distance {d:.2f} Å: {e}\")\n",
    "        with open(output_log_file, \"a\") as log_file:\n",
    "            log_file.write(f\"{d:.2f} Å: Error occurred - {e}\\n\")\n",
    "\n",
    "print(' --- complete')\n",
    "\n",
    "# Check if energies list is empty\n",
    "if not energies or not hf_energies:\n",
    "    print(\"Error: No energies were calculated. Please check the loop and debug.\")\n",
    "    exit()\n",
    "\n",
    "# Find the lowest VQE and Hartree-Fock energies\n",
    "lowest_vqe_energy = min(energies)\n",
    "lowest_hf_energy = min(hf_energies)\n",
    "\n",
    "# Find the corresponding distances\n",
    "lowest_vqe_distance = distances[energies.index(lowest_vqe_energy)]\n",
    "lowest_hf_distance = distances[hf_energies.index(lowest_hf_energy)]\n",
    "\n",
    "# Save results to a data file\n",
    "with open(output_data_file, \"w\") as data_file:\n",
    "    data_file.write(\"Bond Distance (Å)\\tVQE Energy (Hartree)\\tHF Energy (Hartree)\\n\")\n",
    "    for d, vqe, hf in zip(distances, energies, hf_energies):\n",
    "        data_file.write(f\"{d:.2f}\\t{vqe:.8f}\\t{hf:.8f}\\n\")\n",
    "    data_file.write(f\"\\nLowest VQE Energy: {lowest_vqe_energy:.8f} Hartree at bond distance {lowest_vqe_distance:.2f} Å\\n\")\n",
    "    data_file.write(f\"Lowest Hartree-Fock Energy: {lowest_hf_energy:.8f} Hartree at bond distance {lowest_hf_distance:.2f} Å\\n\")\n",
    "\n",
    "print(f\"Results saved to {output_data_file}\")\n",
    "\n",
    "# Print the lowest energies and corresponding bond distances\n",
    "print(f\"Lowest VQE Energy: {lowest_vqe_energy:.8f} Hartree at bond distance {lowest_vqe_distance:.2f} Å\")\n",
    "print(f\"Lowest Hartree-Fock Energy: {lowest_hf_energy:.8f} Hartree at bond distance {lowest_hf_distance:.2f} Å\")\n",
    "\n",
    "# Plotting the energy profile\n",
    "fig, ax = plt.subplots()\n",
    "ax.plot(distances, energies, label=\"VQE Energy\")\n",
    "ax.plot(distances, hf_energies, label=\"Hartree-Fock Energy\", linestyle='--')\n",
    "ax.set_xlabel(\"Bond Distance (Å)\")\n",
    "ax.set_ylabel(\"Energy (Hartree)\")\n",
    "ax.legend()\n",
    "plt.savefig(output_plot_file)  # Save the plot\n",
    "plt.show()\n",
    "\n",
    "print(f\"Energy profile plot saved as {output_plot_file}\")\n"
   ]
  },
  {
   "cell_type": "code",
   "execution_count": null,
   "id": "e608dcfa-5dd3-498f-9825-74e649d5daed",
   "metadata": {},
   "outputs": [],
   "source": []
  }
 ],
 "metadata": {
  "kernelspec": {
   "display_name": "Python 3 (ipykernel)",
   "language": "python",
   "name": "python3"
  },
  "language_info": {
   "codemirror_mode": {
    "name": "ipython",
    "version": 3
   },
   "file_extension": ".py",
   "mimetype": "text/x-python",
   "name": "python",
   "nbconvert_exporter": "python",
   "pygments_lexer": "ipython3",
   "version": "3.11.9"
  }
 },
 "nbformat": 4,
 "nbformat_minor": 5
}
