{
 "cells": [
  {
   "cell_type": "code",
   "execution_count": 1,
   "id": "759b759e-76bd-48b2-95fa-bb497dbd1329",
   "metadata": {},
   "outputs": [
    {
     "ename": "TypeError",
     "evalue": "calculate_and_save() missing 2 required positional arguments: 'active_electrons' and 'active_orbitals'",
     "output_type": "error",
     "traceback": [
      "\u001b[0;31m---------------------------------------------------------------------------\u001b[0m",
      "\u001b[0;31mTypeError\u001b[0m                                 Traceback (most recent call last)",
      "Cell \u001b[0;32mIn[1], line 104\u001b[0m\n\u001b[1;32m    100\u001b[0m \u001b[38;5;66;03m#active_electrons = 4  # Specify the number of active electrons\u001b[39;00m\n\u001b[1;32m    101\u001b[0m \u001b[38;5;66;03m#active_orbitals = 5   # Specify the number of active orbitals\u001b[39;00m\n\u001b[1;32m    103\u001b[0m \u001b[38;5;28;01mfor\u001b[39;00m bond_distance \u001b[38;5;129;01min\u001b[39;00m bond_distances:\n\u001b[0;32m--> 104\u001b[0m     \u001b[43mcalculate_and_save\u001b[49m\u001b[43m(\u001b[49m\u001b[43mbond_distance\u001b[49m\u001b[43m,\u001b[49m\u001b[43m \u001b[49m\u001b[43moutput_dir\u001b[49m\u001b[43m)\u001b[49m\n",
      "\u001b[0;31mTypeError\u001b[0m: calculate_and_save() missing 2 required positional arguments: 'active_electrons' and 'active_orbitals'"
     ]
    }
   ],
   "source": [
    "import os\n",
    "from pyscf import gto, scf, mcscf\n",
    "from openfermionpyscf import generate_molecular_hamiltonian\n",
    "from openfermion.transforms import jordan_wigner, bravyi_kitaev_tree\n",
    "from openfermion.transforms import get_fermion_operator\n",
    "from IPython.display import display, Markdown\n",
    "from openfermion.ops import FermionOperator, QubitOperator\n",
    "\n",
    "\n",
    "# Function to create a directory and save results\n",
    "def save_results(bond_distance, output_dir, fermion_hamiltonian, jw_transform, bk_transform):\n",
    "    # Create a folder for the bond distance\n",
    "    folder_name = os.path.join(output_dir, f\"AlH_{int(bond_distance * 100)}\")\n",
    "    os.makedirs(folder_name, exist_ok=True)\n",
    "\n",
    "    # Save fermionic Hamiltonian\n",
    "    with open(os.path.join(folder_name, \"fermionic_hamiltonian.txt\"), \"w\") as f:\n",
    "        f.write(str(fermion_hamiltonian))\n",
    "\n",
    "    # Save Jordan-Wigner transformation\n",
    "    with open(os.path.join(folder_name, \"jordan_wigner.txt\"), \"w\") as f:\n",
    "        f.write(str(jw_transform))\n",
    "\n",
    "    # Save Bravyi-Kitaev transformation\n",
    "    with open(os.path.join(folder_name, \"bravyi_kitaev.txt\"), \"w\") as f:\n",
    "        f.write(str(bk_transform))\n",
    "\n",
    "    print(f\"Results saved in folder: {folder_name}\")\n",
    "\n",
    "\n",
    "# Function to manually compute the Hermitian conjugate of a QubitOperator\n",
    "def hermitian_conjugate(qubit_operator):\n",
    "    conjugate_operator = QubitOperator()\n",
    "    for term, coefficient in qubit_operator.terms.items():\n",
    "        # Conjugate the coefficient (complex conjugate) and add the reversed term\n",
    "        conjugated_coefficient = coefficient.conjugate()\n",
    "        conjugate_operator += QubitOperator(term, conjugated_coefficient)\n",
    "    return conjugate_operator\n",
    "\n",
    "# Function to enforce Hermiticity by symmetrizing the Hamiltonian\n",
    "def make_hermitian(qubit_operator):\n",
    "    # The Hermitian operator is (H + H†) / 2\n",
    "    hermitian_hamiltonian = (qubit_operator + hermitian_conjugate(qubit_operator)) / 2\n",
    "    return hermitian_hamiltonian\n",
    "\n",
    "\n",
    "# Function to perform calculations for a given bond distance\n",
    "def calculate_and_save(bond_distance, output_dir, active_electrons, active_orbitals):\n",
    "    display(Markdown(f\"### Processing bond distance: {bond_distance} Å\"))\n",
    "\n",
    "    # Define molecule geometry\n",
    "    geometry = [('Al', (0, 0, 0)), ('H', (0, 0, bond_distance))]\n",
    "    basis = 'sto-3g'\n",
    "    charge = 0\n",
    "    multiplicity = 3\n",
    "    spin = multiplicity - 1\n",
    "\n",
    "    # Setup molecule and perform SCF calculation\n",
    "    mol = gto.M(atom=geometry, basis=basis, charge=charge, spin=spin, unit='angstrom')\n",
    "    mf = scf.RHF(mol).run()\n",
    "\n",
    "    # Perform CASCI calculation to define active space\n",
    "    mc = mcscf.CASCI(mf, active_orbitals, active_electrons)\n",
    "    mc.kernel()\n",
    "\n",
    "    print(f\"Bond distance: {bond_distance:.2f} Å, HF Energy: {mf.e_tot:.8f} Hartree, CASCI Energy: {mc.e_tot:.8f} Hartree\")\n",
    "\n",
    "    # Generate molecular Hamiltonian in full space\n",
    "    molecular_hamiltonian = generate_molecular_hamiltonian(\n",
    "        geometry=geometry,\n",
    "        basis=basis,\n",
    "        multiplicity=multiplicity,\n",
    "        charge=charge,\n",
    "        n_active_electrons=active_electrons,\n",
    "        n_active_orbitals=active_orbitals\n",
    "\n",
    "    )\n",
    "    fermion_hamiltonian = get_fermion_operator(molecular_hamiltonian)\n",
    "\n",
    "\n",
    "    # Apply the Jordan-Wigner transformation\n",
    "    jw_hamiltonian = jordan_wigner(fermion_hamiltonian)\n",
    "\n",
    "    # Ensure the Jordan-Wigner Hamiltonian is Hermitian\n",
    "    jw_hamiltonian = make_hermitian(jw_hamiltonian)\n",
    "\n",
    "    # Apply the Bravyi-Kitaev transformation\n",
    "    bk_hamiltonian = bravyi_kitaev_tree(fermion_hamiltonian)\n",
    "\n",
    "    # Ensure the Bravyi-Kitaev Hamiltonian is Hermitian\n",
    "    bk_hamiltonian = make_hermitian(bk_hamiltonian)\n",
    "\n",
    "    # Save results\n",
    "    save_results(bond_distance, output_dir, fermion_hamiltonian, jw_hamiltonian, bk_hamiltonian)\n",
    "\n",
    "\n",
    "# Main script\n",
    "output_dir = \"AlH_Full\"\n",
    "bond_distances = [1.30, 1.35, 1.40, 1.45, 1.50, 1.55, 1.60, 1.65, 1.70, 1.75, 1.80, 1.85, 1.90, 1.95, 2.00, 2.05, 2.10, 2.15, 2.20, 2.25, 2.30, 2.35, 2.35, 2.40, 2.45, 2.50, 2.55, 2.60, 2.65, 2.70, 2.75, 2.80, 2.85, 2.90, 2.95, 3.00]  # Specify bond distances in Å\n",
    "active_electrons = 2  # Specify the number of active electrons\n",
    "active_orbitals = 5   # Specify the number of active orbitals\n",
    "\n",
    "for bond_distance in bond_distances:\n",
    "    calculate_and_save(bond_distance, output_dir, active_electrons, active_orbitals)\n"
   ]
  },
  {
   "cell_type": "markdown",
   "id": "45bb21f1-4e7d-4127-b303-b9fde6f32c07",
   "metadata": {},
   "source": [
    "# Full activel space hamiltonion"
   ]
  },
  {
   "cell_type": "code",
   "execution_count": 1,
   "id": "0a23e632-b602-4776-a31b-c7c352822455",
   "metadata": {},
   "outputs": [
    {
     "data": {
      "text/markdown": [
       "### Processing bond distance: 1.3 Å"
      ],
      "text/plain": [
       "<IPython.core.display.Markdown object>"
      ]
     },
     "metadata": {},
     "output_type": "display_data"
    },
    {
     "name": "stdout",
     "output_type": "stream",
     "text": [
      "converged SCF energy = -239.376548378114\n",
      "Bond distance: 1.30 Å, HF Energy: -239.37654838 Hartree\n",
      "Results saved in folder: AlH_Full/AlH_130\n"
     ]
    },
    {
     "data": {
      "text/markdown": [
       "### Processing bond distance: 1.4 Å"
      ],
      "text/plain": [
       "<IPython.core.display.Markdown object>"
      ]
     },
     "metadata": {},
     "output_type": "display_data"
    },
    {
     "name": "stdout",
     "output_type": "stream",
     "text": [
      "converged SCF energy = -239.392721362566\n",
      "Bond distance: 1.40 Å, HF Energy: -239.39272136 Hartree\n",
      "Results saved in folder: AlH_Full/AlH_140\n"
     ]
    },
    {
     "data": {
      "text/markdown": [
       "### Processing bond distance: 1.5 Å"
      ],
      "text/plain": [
       "<IPython.core.display.Markdown object>"
      ]
     },
     "metadata": {},
     "output_type": "display_data"
    },
    {
     "name": "stdout",
     "output_type": "stream",
     "text": [
      "converged SCF energy = -239.396795582925\n",
      "Bond distance: 1.50 Å, HF Energy: -239.39679558 Hartree\n",
      "Results saved in folder: AlH_Full/AlH_150\n"
     ]
    },
    {
     "data": {
      "text/markdown": [
       "### Processing bond distance: 1.6 Å"
      ],
      "text/plain": [
       "<IPython.core.display.Markdown object>"
      ]
     },
     "metadata": {},
     "output_type": "display_data"
    },
    {
     "name": "stdout",
     "output_type": "stream",
     "text": [
      "converged SCF energy = -239.392423969926\n",
      "Bond distance: 1.60 Å, HF Energy: -239.39242397 Hartree\n",
      "Results saved in folder: AlH_Full/AlH_160\n"
     ]
    },
    {
     "data": {
      "text/markdown": [
       "### Processing bond distance: 1.7 Å"
      ],
      "text/plain": [
       "<IPython.core.display.Markdown object>"
      ]
     },
     "metadata": {},
     "output_type": "display_data"
    },
    {
     "name": "stdout",
     "output_type": "stream",
     "text": [
      "converged SCF energy = -239.382263071718\n",
      "Bond distance: 1.70 Å, HF Energy: -239.38226307 Hartree\n",
      "Results saved in folder: AlH_Full/AlH_170\n"
     ]
    },
    {
     "data": {
      "text/markdown": [
       "### Processing bond distance: 1.8 Å"
      ],
      "text/plain": [
       "<IPython.core.display.Markdown object>"
      ]
     },
     "metadata": {},
     "output_type": "display_data"
    },
    {
     "name": "stdout",
     "output_type": "stream",
     "text": [
      "converged SCF energy = -239.368332546521\n",
      "Bond distance: 1.80 Å, HF Energy: -239.36833255 Hartree\n",
      "Results saved in folder: AlH_Full/AlH_180\n"
     ]
    },
    {
     "data": {
      "text/markdown": [
       "### Processing bond distance: 1.9 Å"
      ],
      "text/plain": [
       "<IPython.core.display.Markdown object>"
      ]
     },
     "metadata": {},
     "output_type": "display_data"
    },
    {
     "name": "stdout",
     "output_type": "stream",
     "text": [
      "converged SCF energy = -239.35235547471\n",
      "Bond distance: 1.90 Å, HF Energy: -239.35235547 Hartree\n",
      "Results saved in folder: AlH_Full/AlH_190\n"
     ]
    },
    {
     "data": {
      "text/markdown": [
       "### Processing bond distance: 2.0 Å"
      ],
      "text/plain": [
       "<IPython.core.display.Markdown object>"
      ]
     },
     "metadata": {},
     "output_type": "display_data"
    },
    {
     "name": "stdout",
     "output_type": "stream",
     "text": [
      "converged SCF energy = -239.337961155955\n",
      "Bond distance: 2.00 Å, HF Energy: -239.33796116 Hartree\n",
      "Results saved in folder: AlH_Full/AlH_200\n"
     ]
    },
    {
     "data": {
      "text/markdown": [
       "### Processing bond distance: 2.1 Å"
      ],
      "text/plain": [
       "<IPython.core.display.Markdown object>"
      ]
     },
     "metadata": {},
     "output_type": "display_data"
    },
    {
     "name": "stdout",
     "output_type": "stream",
     "text": [
      "converged SCF energy = -239.333069733258\n",
      "Bond distance: 2.10 Å, HF Energy: -239.33306973 Hartree\n",
      "Results saved in folder: AlH_Full/AlH_210\n"
     ]
    },
    {
     "data": {
      "text/markdown": [
       "### Processing bond distance: 2.2 Å"
      ],
      "text/plain": [
       "<IPython.core.display.Markdown object>"
      ]
     },
     "metadata": {},
     "output_type": "display_data"
    },
    {
     "name": "stdout",
     "output_type": "stream",
     "text": [
      "converged SCF energy = -239.330477691618\n",
      "Bond distance: 2.20 Å, HF Energy: -239.33047769 Hartree\n",
      "Results saved in folder: AlH_Full/AlH_220\n"
     ]
    },
    {
     "data": {
      "text/markdown": [
       "### Processing bond distance: 2.3 Å"
      ],
      "text/plain": [
       "<IPython.core.display.Markdown object>"
      ]
     },
     "metadata": {},
     "output_type": "display_data"
    },
    {
     "name": "stdout",
     "output_type": "stream",
     "text": [
      "converged SCF energy = -239.328882831866\n",
      "Bond distance: 2.30 Å, HF Energy: -239.32888283 Hartree\n",
      "Results saved in folder: AlH_Full/AlH_229\n"
     ]
    },
    {
     "data": {
      "text/markdown": [
       "### Processing bond distance: 2.4 Å"
      ],
      "text/plain": [
       "<IPython.core.display.Markdown object>"
      ]
     },
     "metadata": {},
     "output_type": "display_data"
    },
    {
     "name": "stdout",
     "output_type": "stream",
     "text": [
      "converged SCF energy = -239.327834114603\n",
      "Bond distance: 2.40 Å, HF Energy: -239.32783411 Hartree\n",
      "Results saved in folder: AlH_Full/AlH_240\n"
     ]
    },
    {
     "data": {
      "text/markdown": [
       "### Processing bond distance: 2.5 Å"
      ],
      "text/plain": [
       "<IPython.core.display.Markdown object>"
      ]
     },
     "metadata": {},
     "output_type": "display_data"
    },
    {
     "name": "stdout",
     "output_type": "stream",
     "text": [
      "converged SCF energy = -239.327111190247\n",
      "Bond distance: 2.50 Å, HF Energy: -239.32711119 Hartree\n",
      "Results saved in folder: AlH_Full/AlH_250\n"
     ]
    },
    {
     "data": {
      "text/markdown": [
       "### Processing bond distance: 2.6 Å"
      ],
      "text/plain": [
       "<IPython.core.display.Markdown object>"
      ]
     },
     "metadata": {},
     "output_type": "display_data"
    },
    {
     "name": "stdout",
     "output_type": "stream",
     "text": [
      "converged SCF energy = -239.326593152092\n",
      "Bond distance: 2.60 Å, HF Energy: -239.32659315 Hartree\n",
      "Results saved in folder: AlH_Full/AlH_260\n"
     ]
    },
    {
     "data": {
      "text/markdown": [
       "### Processing bond distance: 2.7 Å"
      ],
      "text/plain": [
       "<IPython.core.display.Markdown object>"
      ]
     },
     "metadata": {},
     "output_type": "display_data"
    },
    {
     "name": "stdout",
     "output_type": "stream",
     "text": [
      "converged SCF energy = -239.326209769185\n",
      "Bond distance: 2.70 Å, HF Energy: -239.32620977 Hartree\n",
      "Results saved in folder: AlH_Full/AlH_270\n"
     ]
    },
    {
     "data": {
      "text/markdown": [
       "### Processing bond distance: 2.8 Å"
      ],
      "text/plain": [
       "<IPython.core.display.Markdown object>"
      ]
     },
     "metadata": {},
     "output_type": "display_data"
    },
    {
     "name": "stdout",
     "output_type": "stream",
     "text": [
      "converged SCF energy = -239.325918779335\n",
      "Bond distance: 2.80 Å, HF Energy: -239.32591878 Hartree\n",
      "Results saved in folder: AlH_Full/AlH_280\n"
     ]
    },
    {
     "data": {
      "text/markdown": [
       "### Processing bond distance: 2.9 Å"
      ],
      "text/plain": [
       "<IPython.core.display.Markdown object>"
      ]
     },
     "metadata": {},
     "output_type": "display_data"
    },
    {
     "name": "stdout",
     "output_type": "stream",
     "text": [
      "converged SCF energy = -239.325693963278\n",
      "Bond distance: 2.90 Å, HF Energy: -239.32569396 Hartree\n",
      "Results saved in folder: AlH_Full/AlH_290\n"
     ]
    },
    {
     "data": {
      "text/markdown": [
       "### Processing bond distance: 3.0 Å"
      ],
      "text/plain": [
       "<IPython.core.display.Markdown object>"
      ]
     },
     "metadata": {},
     "output_type": "display_data"
    },
    {
     "name": "stdout",
     "output_type": "stream",
     "text": [
      "converged SCF energy = -239.32551846564\n",
      "Bond distance: 3.00 Å, HF Energy: -239.32551847 Hartree\n",
      "Results saved in folder: AlH_Full/AlH_300\n"
     ]
    }
   ],
   "source": [
    "import os\n",
    "from pyscf import gto, scf\n",
    "from openfermionpyscf import generate_molecular_hamiltonian\n",
    "from openfermion.transforms import jordan_wigner, bravyi_kitaev_tree\n",
    "from openfermion.transforms import get_fermion_operator\n",
    "from IPython.display import display, Markdown\n",
    "from openfermion.ops import FermionOperator, QubitOperator\n",
    "\n",
    "\n",
    "# Function to create a directory and save results\n",
    "def save_results(bond_distance, output_dir, fermion_hamiltonian, jw_transform, bk_transform):\n",
    "    # Create a folder for the bond distance\n",
    "    folder_name = os.path.join(output_dir, f\"AlH_{int(bond_distance * 100)}\")\n",
    "    os.makedirs(folder_name, exist_ok=True)\n",
    "\n",
    "    # Save fermionic Hamiltonian\n",
    "    with open(os.path.join(folder_name, \"fermionic_hamiltonian.txt\"), \"w\") as f:\n",
    "        f.write(str(fermion_hamiltonian))\n",
    "\n",
    "    # Save Jordan-Wigner transformation\n",
    "    with open(os.path.join(folder_name, \"jordan_wigner.txt\"), \"w\") as f:\n",
    "        f.write(str(jw_transform))\n",
    "\n",
    "    # Save Bravyi-Kitaev transformation\n",
    "    with open(os.path.join(folder_name, \"bravyi_kitaev.txt\"), \"w\") as f:\n",
    "        f.write(str(bk_transform))\n",
    "\n",
    "    print(f\"Results saved in folder: {folder_name}\")\n",
    "\n",
    "\n",
    "# Function to manually compute the Hermitian conjugate of a QubitOperator\n",
    "def hermitian_conjugate(qubit_operator):\n",
    "    conjugate_operator = QubitOperator()\n",
    "    for term, coefficient in qubit_operator.terms.items():\n",
    "        conjugated_coefficient = coefficient.conjugate()\n",
    "        conjugate_operator += QubitOperator(term, conjugated_coefficient)\n",
    "    return conjugate_operator\n",
    "\n",
    "\n",
    "# Function to enforce Hermiticity by symmetrizing the Hamiltonian\n",
    "def make_hermitian(qubit_operator):\n",
    "    hermitian_hamiltonian = (qubit_operator + hermitian_conjugate(qubit_operator)) / 2\n",
    "    return hermitian_hamiltonian\n",
    "\n",
    "\n",
    "# Function to perform calculations for a given bond distance\n",
    "def calculate_and_save(bond_distance, output_dir):\n",
    "    display(Markdown(f\"### Processing bond distance: {bond_distance} Å\"))\n",
    "\n",
    "    # Define molecule geometry\n",
    "    geometry = [('Al', (0, 0, 0)), ('H', (0, 0, bond_distance))]\n",
    "    basis = 'sto-3g'\n",
    "    charge = 0\n",
    "    multiplicity = 3\n",
    "    spin = multiplicity - 1\n",
    "\n",
    "    # Setup molecule and perform SCF calculation\n",
    "    mol = gto.M(atom=geometry, basis=basis, charge=charge, spin=spin, unit='angstrom')\n",
    "    mf = scf.RHF(mol).run()\n",
    "\n",
    "    print(f\"Bond distance: {bond_distance:.2f} Å, HF Energy: {mf.e_tot:.8f} Hartree\")\n",
    "\n",
    "    # Generate molecular Hamiltonian in full space\n",
    "    molecular_hamiltonian = generate_molecular_hamiltonian(\n",
    "        geometry=geometry,\n",
    "        basis=basis,\n",
    "        multiplicity=multiplicity,\n",
    "        charge=charge,\n",
    "\n",
    "    )\n",
    "    fermion_hamiltonian = get_fermion_operator(molecular_hamiltonian)\n",
    "\n",
    "    # Apply the Jordan-Wigner transformation\n",
    "    jw_hamiltonian = jordan_wigner(fermion_hamiltonian)\n",
    "\n",
    "    # Ensure the Jordan-Wigner Hamiltonian is Hermitian\n",
    "    jw_hamiltonian = make_hermitian(jw_hamiltonian)\n",
    "\n",
    "    # Apply the Bravyi-Kitaev transformation\n",
    "    bk_hamiltonian = bravyi_kitaev_tree(fermion_hamiltonian)\n",
    "\n",
    "    # Ensure the Bravyi-Kitaev Hamiltonian is Hermitian\n",
    "    bk_hamiltonian = make_hermitian(bk_hamiltonian)\n",
    "\n",
    "    # Save results\n",
    "    save_results(bond_distance, output_dir, fermion_hamiltonian, jw_hamiltonian, bk_hamiltonian)\n",
    "\n",
    "\n",
    "# Main script\n",
    "output_dir = \"AlH_Full\"\n",
    "bond_distances = [1.30, 1.40, 1.50, 1.60, 1.70, 1.80, 1.90, 2.00, 2.10, 2.20, 2.30, 2.40, 2.50, 2.60, 2.70, 2.80, 2.90, 3.00]  # Specify bond distances in Å\n",
    "\n",
    "for bond_distance in bond_distances:\n",
    "    calculate_and_save(bond_distance, output_dir)\n"
   ]
  },
  {
   "cell_type": "code",
   "execution_count": null,
   "id": "fb511ac4-2708-43a4-8aeb-0613537af01a",
   "metadata": {},
   "outputs": [],
   "source": []
  }
 ],
 "metadata": {
  "kernelspec": {
   "display_name": "Python 3 (ipykernel)",
   "language": "python",
   "name": "python3"
  },
  "language_info": {
   "codemirror_mode": {
    "name": "ipython",
    "version": 3
   },
   "file_extension": ".py",
   "mimetype": "text/x-python",
   "name": "python",
   "nbconvert_exporter": "python",
   "pygments_lexer": "ipython3",
   "version": "3.11.9"
  }
 },
 "nbformat": 4,
 "nbformat_minor": 5
}
